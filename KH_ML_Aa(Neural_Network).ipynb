{
  "nbformat": 4,
  "nbformat_minor": 0,
  "metadata": {
    "colab": {
      "provenance": []
    },
    "kernelspec": {
      "name": "python3",
      "display_name": "Python 3"
    },
    "language_info": {
      "name": "python"
    }
  },
  "cells": [
    {
      "cell_type": "code",
      "execution_count": 1,
      "metadata": {
        "id": "SyewBPFevZU1"
      },
      "outputs": [],
      "source": [
        "import pandas as pd\n",
        "import numpy as np\n",
        "import matplotlib.pyplot as plt\n",
        "import seaborn as sns\n",
        "from google.colab import drive\n",
        "\n"
      ]
    },
    {
      "cell_type": "code",
      "source": [
        "import pandas as pd\n",
        "\n",
        "df1 =pd.read_csv(\"/content/RTW sample AB.csv\")\n",
        "df1.head()"
      ],
      "metadata": {
        "id": "Du6ymz16PeUX",
        "outputId": "a96225fc-ea6e-4881-e37b-7b183a6f3eeb",
        "colab": {
          "base_uri": "https://localhost:8080/",
          "height": 682
        }
      },
      "execution_count": null,
      "outputs": [
        {
          "output_type": "execute_result",
          "data": {
            "text/plain": [
              "    Claim No  Occurrence No  Claim Financial Year  Agency NN Incident Date  \\\n",
              "0  13/005096              1                  2013       7069    01/11/2012   \n",
              "1  21/013033              1                  2021      63246    29/04/2021   \n",
              "2  16/005676              1                  2016    2043954    16/11/2015   \n",
              "3  15/002879              1                  2015      63246    04/09/2014   \n",
              "4  14/020489              2                  2014      63246    08/05/2014   \n",
              "\n",
              "  Finalised Date  Total Paid Paid Days Lost Service Start Date  \\\n",
              "0     24/01/2013   $8,580.00          26.01         02/11/2012   \n",
              "1     10/06/2021     $573.66              2         29/04/2021   \n",
              "2     04/01/2016     $796.97           2.02         16/11/2015   \n",
              "3     18/02/2015   $5,570.19             26         05/09/2014   \n",
              "4     29/01/2016  $35,406.63          75.09         03/10/2014   \n",
              "\n",
              "  Service End Date  ...                                      Mechanism  \\\n",
              "0       18/12/2012  ...  Muscular stress-lift, carry, put down objects   \n",
              "1       30/04/2021  ...                        Falls on the same level   \n",
              "2       17/11/2015  ...         Being assaulted by a person or persons   \n",
              "3       10/10/2014  ...        Muscular stress with no objects handled   \n",
              "4       12/01/2015  ...                        Falls on the same level   \n",
              "\n",
              "                                          Nature  \\\n",
              "0      Sprains and strains of joints and muscles   \n",
              "1  Open wound not including traumatic amputation   \n",
              "2  Open wound not including traumatic amputation   \n",
              "3      Sprains and strains of joints and muscles   \n",
              "4      Sprains and strains of joints and muscles   \n",
              "\n",
              "                                              Major  \\\n",
              "0  Intermediate Clerical, Sales and Service Workers   \n",
              "1  Intermediate Clerical, Sales and Service Workers   \n",
              "2                           Associate Professionals   \n",
              "3  Intermediate Clerical, Sales and Service Workers   \n",
              "4                 Tradespersons and Related Workers   \n",
              "\n",
              "                            Occupation    Gender Date of Birth Days to RTW  \\\n",
              "0              Personal Care Assistant  Male        05/11/1956          46   \n",
              "1  Teachers Aide (Education Assistant)  Female      18/08/1971           1   \n",
              "2             Residential Care Officer  Male        07/07/1967           1   \n",
              "3  Teachers Aide (Education Assistant)  Male        29/07/1973          35   \n",
              "4                     General Gardener  Male        06/02/1951         101   \n",
              "\n",
              "   RTW Category Age at Accident Date Settled  \n",
              "0  RTW 13 Weeks                   55       N  \n",
              "1  RTW 13 Weeks                   49       N  \n",
              "2  RTW 13 Weeks                   48       N  \n",
              "3  RTW 13 Weeks                   41       N  \n",
              "4  RTW 26 Weeks                   63       N  \n",
              "\n",
              "[5 rows x 25 columns]"
            ],
            "text/html": [
              "\n",
              "  <div id=\"df-260b2352-a5ca-43a5-afdb-3800e05c47a9\">\n",
              "    <div class=\"colab-df-container\">\n",
              "      <div>\n",
              "<style scoped>\n",
              "    .dataframe tbody tr th:only-of-type {\n",
              "        vertical-align: middle;\n",
              "    }\n",
              "\n",
              "    .dataframe tbody tr th {\n",
              "        vertical-align: top;\n",
              "    }\n",
              "\n",
              "    .dataframe thead th {\n",
              "        text-align: right;\n",
              "    }\n",
              "</style>\n",
              "<table border=\"1\" class=\"dataframe\">\n",
              "  <thead>\n",
              "    <tr style=\"text-align: right;\">\n",
              "      <th></th>\n",
              "      <th>Claim No</th>\n",
              "      <th>Occurrence No</th>\n",
              "      <th>Claim Financial Year</th>\n",
              "      <th>Agency NN</th>\n",
              "      <th>Incident Date</th>\n",
              "      <th>Finalised Date</th>\n",
              "      <th>Total Paid</th>\n",
              "      <th>Paid Days Lost</th>\n",
              "      <th>Service Start Date</th>\n",
              "      <th>Service End Date</th>\n",
              "      <th>...</th>\n",
              "      <th>Mechanism</th>\n",
              "      <th>Nature</th>\n",
              "      <th>Major</th>\n",
              "      <th>Occupation</th>\n",
              "      <th>Gender</th>\n",
              "      <th>Date of Birth</th>\n",
              "      <th>Days to RTW</th>\n",
              "      <th>RTW Category</th>\n",
              "      <th>Age at Accident Date</th>\n",
              "      <th>Settled</th>\n",
              "    </tr>\n",
              "  </thead>\n",
              "  <tbody>\n",
              "    <tr>\n",
              "      <th>0</th>\n",
              "      <td>13/005096</td>\n",
              "      <td>1</td>\n",
              "      <td>2013</td>\n",
              "      <td>7069</td>\n",
              "      <td>01/11/2012</td>\n",
              "      <td>24/01/2013</td>\n",
              "      <td>$8,580.00</td>\n",
              "      <td>26.01</td>\n",
              "      <td>02/11/2012</td>\n",
              "      <td>18/12/2012</td>\n",
              "      <td>...</td>\n",
              "      <td>Muscular stress-lift, carry, put down objects</td>\n",
              "      <td>Sprains and strains of joints and muscles</td>\n",
              "      <td>Intermediate Clerical, Sales and Service Workers</td>\n",
              "      <td>Personal Care Assistant</td>\n",
              "      <td>Male</td>\n",
              "      <td>05/11/1956</td>\n",
              "      <td>46</td>\n",
              "      <td>RTW 13 Weeks</td>\n",
              "      <td>55</td>\n",
              "      <td>N</td>\n",
              "    </tr>\n",
              "    <tr>\n",
              "      <th>1</th>\n",
              "      <td>21/013033</td>\n",
              "      <td>1</td>\n",
              "      <td>2021</td>\n",
              "      <td>63246</td>\n",
              "      <td>29/04/2021</td>\n",
              "      <td>10/06/2021</td>\n",
              "      <td>$573.66</td>\n",
              "      <td>2</td>\n",
              "      <td>29/04/2021</td>\n",
              "      <td>30/04/2021</td>\n",
              "      <td>...</td>\n",
              "      <td>Falls on the same level</td>\n",
              "      <td>Open wound not including traumatic amputation</td>\n",
              "      <td>Intermediate Clerical, Sales and Service Workers</td>\n",
              "      <td>Teachers Aide (Education Assistant)</td>\n",
              "      <td>Female</td>\n",
              "      <td>18/08/1971</td>\n",
              "      <td>1</td>\n",
              "      <td>RTW 13 Weeks</td>\n",
              "      <td>49</td>\n",
              "      <td>N</td>\n",
              "    </tr>\n",
              "    <tr>\n",
              "      <th>2</th>\n",
              "      <td>16/005676</td>\n",
              "      <td>1</td>\n",
              "      <td>2016</td>\n",
              "      <td>2043954</td>\n",
              "      <td>16/11/2015</td>\n",
              "      <td>04/01/2016</td>\n",
              "      <td>$796.97</td>\n",
              "      <td>2.02</td>\n",
              "      <td>16/11/2015</td>\n",
              "      <td>17/11/2015</td>\n",
              "      <td>...</td>\n",
              "      <td>Being assaulted by a person or persons</td>\n",
              "      <td>Open wound not including traumatic amputation</td>\n",
              "      <td>Associate Professionals</td>\n",
              "      <td>Residential Care Officer</td>\n",
              "      <td>Male</td>\n",
              "      <td>07/07/1967</td>\n",
              "      <td>1</td>\n",
              "      <td>RTW 13 Weeks</td>\n",
              "      <td>48</td>\n",
              "      <td>N</td>\n",
              "    </tr>\n",
              "    <tr>\n",
              "      <th>3</th>\n",
              "      <td>15/002879</td>\n",
              "      <td>1</td>\n",
              "      <td>2015</td>\n",
              "      <td>63246</td>\n",
              "      <td>04/09/2014</td>\n",
              "      <td>18/02/2015</td>\n",
              "      <td>$5,570.19</td>\n",
              "      <td>26</td>\n",
              "      <td>05/09/2014</td>\n",
              "      <td>10/10/2014</td>\n",
              "      <td>...</td>\n",
              "      <td>Muscular stress with no objects handled</td>\n",
              "      <td>Sprains and strains of joints and muscles</td>\n",
              "      <td>Intermediate Clerical, Sales and Service Workers</td>\n",
              "      <td>Teachers Aide (Education Assistant)</td>\n",
              "      <td>Male</td>\n",
              "      <td>29/07/1973</td>\n",
              "      <td>35</td>\n",
              "      <td>RTW 13 Weeks</td>\n",
              "      <td>41</td>\n",
              "      <td>N</td>\n",
              "    </tr>\n",
              "    <tr>\n",
              "      <th>4</th>\n",
              "      <td>14/020489</td>\n",
              "      <td>2</td>\n",
              "      <td>2014</td>\n",
              "      <td>63246</td>\n",
              "      <td>08/05/2014</td>\n",
              "      <td>29/01/2016</td>\n",
              "      <td>$35,406.63</td>\n",
              "      <td>75.09</td>\n",
              "      <td>03/10/2014</td>\n",
              "      <td>12/01/2015</td>\n",
              "      <td>...</td>\n",
              "      <td>Falls on the same level</td>\n",
              "      <td>Sprains and strains of joints and muscles</td>\n",
              "      <td>Tradespersons and Related Workers</td>\n",
              "      <td>General Gardener</td>\n",
              "      <td>Male</td>\n",
              "      <td>06/02/1951</td>\n",
              "      <td>101</td>\n",
              "      <td>RTW 26 Weeks</td>\n",
              "      <td>63</td>\n",
              "      <td>N</td>\n",
              "    </tr>\n",
              "  </tbody>\n",
              "</table>\n",
              "<p>5 rows × 25 columns</p>\n",
              "</div>\n",
              "      <button class=\"colab-df-convert\" onclick=\"convertToInteractive('df-260b2352-a5ca-43a5-afdb-3800e05c47a9')\"\n",
              "              title=\"Convert this dataframe to an interactive table.\"\n",
              "              style=\"display:none;\">\n",
              "        \n",
              "  <svg xmlns=\"http://www.w3.org/2000/svg\" height=\"24px\"viewBox=\"0 0 24 24\"\n",
              "       width=\"24px\">\n",
              "    <path d=\"M0 0h24v24H0V0z\" fill=\"none\"/>\n",
              "    <path d=\"M18.56 5.44l.94 2.06.94-2.06 2.06-.94-2.06-.94-.94-2.06-.94 2.06-2.06.94zm-11 1L8.5 8.5l.94-2.06 2.06-.94-2.06-.94L8.5 2.5l-.94 2.06-2.06.94zm10 10l.94 2.06.94-2.06 2.06-.94-2.06-.94-.94-2.06-.94 2.06-2.06.94z\"/><path d=\"M17.41 7.96l-1.37-1.37c-.4-.4-.92-.59-1.43-.59-.52 0-1.04.2-1.43.59L10.3 9.45l-7.72 7.72c-.78.78-.78 2.05 0 2.83L4 21.41c.39.39.9.59 1.41.59.51 0 1.02-.2 1.41-.59l7.78-7.78 2.81-2.81c.8-.78.8-2.07 0-2.86zM5.41 20L4 18.59l7.72-7.72 1.47 1.35L5.41 20z\"/>\n",
              "  </svg>\n",
              "      </button>\n",
              "      \n",
              "  <style>\n",
              "    .colab-df-container {\n",
              "      display:flex;\n",
              "      flex-wrap:wrap;\n",
              "      gap: 12px;\n",
              "    }\n",
              "\n",
              "    .colab-df-convert {\n",
              "      background-color: #E8F0FE;\n",
              "      border: none;\n",
              "      border-radius: 50%;\n",
              "      cursor: pointer;\n",
              "      display: none;\n",
              "      fill: #1967D2;\n",
              "      height: 32px;\n",
              "      padding: 0 0 0 0;\n",
              "      width: 32px;\n",
              "    }\n",
              "\n",
              "    .colab-df-convert:hover {\n",
              "      background-color: #E2EBFA;\n",
              "      box-shadow: 0px 1px 2px rgba(60, 64, 67, 0.3), 0px 1px 3px 1px rgba(60, 64, 67, 0.15);\n",
              "      fill: #174EA6;\n",
              "    }\n",
              "\n",
              "    [theme=dark] .colab-df-convert {\n",
              "      background-color: #3B4455;\n",
              "      fill: #D2E3FC;\n",
              "    }\n",
              "\n",
              "    [theme=dark] .colab-df-convert:hover {\n",
              "      background-color: #434B5C;\n",
              "      box-shadow: 0px 1px 3px 1px rgba(0, 0, 0, 0.15);\n",
              "      filter: drop-shadow(0px 1px 2px rgba(0, 0, 0, 0.3));\n",
              "      fill: #FFFFFF;\n",
              "    }\n",
              "  </style>\n",
              "\n",
              "      <script>\n",
              "        const buttonEl =\n",
              "          document.querySelector('#df-260b2352-a5ca-43a5-afdb-3800e05c47a9 button.colab-df-convert');\n",
              "        buttonEl.style.display =\n",
              "          google.colab.kernel.accessAllowed ? 'block' : 'none';\n",
              "\n",
              "        async function convertToInteractive(key) {\n",
              "          const element = document.querySelector('#df-260b2352-a5ca-43a5-afdb-3800e05c47a9');\n",
              "          const dataTable =\n",
              "            await google.colab.kernel.invokeFunction('convertToInteractive',\n",
              "                                                     [key], {});\n",
              "          if (!dataTable) return;\n",
              "\n",
              "          const docLinkHtml = 'Like what you see? Visit the ' +\n",
              "            '<a target=\"_blank\" href=https://colab.research.google.com/notebooks/data_table.ipynb>data table notebook</a>'\n",
              "            + ' to learn more about interactive tables.';\n",
              "          element.innerHTML = '';\n",
              "          dataTable['output_type'] = 'display_data';\n",
              "          await google.colab.output.renderOutput(dataTable, element);\n",
              "          const docLink = document.createElement('div');\n",
              "          docLink.innerHTML = docLinkHtml;\n",
              "          element.appendChild(docLink);\n",
              "        }\n",
              "      </script>\n",
              "    </div>\n",
              "  </div>\n",
              "  "
            ]
          },
          "metadata": {},
          "execution_count": 4
        }
      ]
    },
    {
      "cell_type": "markdown",
      "source": [
        "# New section"
      ],
      "metadata": {
        "id": "s5HFnSybMFJX"
      }
    },
    {
      "cell_type": "code",
      "source": [
        "df1.shape"
      ],
      "metadata": {
        "colab": {
          "base_uri": "https://localhost:8080/"
        },
        "id": "5T_FXoHi2gAw",
        "outputId": "f894df94-abd4-4fc2-e491-02db14a1274c"
      },
      "execution_count": null,
      "outputs": [
        {
          "output_type": "execute_result",
          "data": {
            "text/plain": [
              "(23139, 25)"
            ]
          },
          "metadata": {},
          "execution_count": 5
        }
      ]
    },
    {
      "cell_type": "code",
      "source": [
        "df1.dtypes"
      ],
      "metadata": {
        "colab": {
          "base_uri": "https://localhost:8080/"
        },
        "id": "ZjgdCptF2qap",
        "outputId": "053fffb3-d872-4e31-a50e-9699d174bd54"
      },
      "execution_count": null,
      "outputs": [
        {
          "output_type": "execute_result",
          "data": {
            "text/plain": [
              "Claim No                 object\n",
              "Occurrence No             int64\n",
              "Claim Financial Year      int64\n",
              "Agency NN                 int64\n",
              "Incident Date            object\n",
              "Finalised Date           object\n",
              "Total Paid               object\n",
              "Paid Days Lost           object\n",
              "Service Start Date       object\n",
              "Service End Date         object\n",
              "Injury Agency Group      object\n",
              "Bodily Location Group    object\n",
              "Mechanism Group          object\n",
              "Nature Group             object\n",
              "Bodily Location          object\n",
              "Mechanism                object\n",
              "Nature                   object\n",
              "Major                    object\n",
              "Occupation               object\n",
              "Gender                   object\n",
              "Date of Birth            object\n",
              "Days to RTW               int64\n",
              "RTW Category             object\n",
              "Age at Accident Date      int64\n",
              "Settled                  object\n",
              "dtype: object"
            ]
          },
          "metadata": {},
          "execution_count": 6
        }
      ]
    },
    {
      "cell_type": "code",
      "source": [
        "df1.isnull().sum()"
      ],
      "metadata": {
        "colab": {
          "base_uri": "https://localhost:8080/"
        },
        "id": "cz0B-nlR16lP",
        "outputId": "58aa7f83-f879-4c6b-9ebb-06d485515bcd"
      },
      "execution_count": null,
      "outputs": [
        {
          "output_type": "execute_result",
          "data": {
            "text/plain": [
              "Claim No                   0\n",
              "Occurrence No              0\n",
              "Claim Financial Year       0\n",
              "Agency NN                  0\n",
              "Incident Date              0\n",
              "Finalised Date             0\n",
              "Total Paid                 0\n",
              "Paid Days Lost             0\n",
              "Service Start Date       475\n",
              "Service End Date         475\n",
              "Injury Agency Group        0\n",
              "Bodily Location Group      0\n",
              "Mechanism Group            0\n",
              "Nature Group               0\n",
              "Bodily Location            0\n",
              "Mechanism                  0\n",
              "Nature                     0\n",
              "Major                      0\n",
              "Occupation                 0\n",
              "Gender                     0\n",
              "Date of Birth              1\n",
              "Days to RTW                0\n",
              "RTW Category               0\n",
              "Age at Accident Date       0\n",
              "Settled                    0\n",
              "dtype: int64"
            ]
          },
          "metadata": {},
          "execution_count": 7
        }
      ]
    },
    {
      "cell_type": "code",
      "source": [
        "df2=df1.drop(['Claim No','Claim Financial Year'],axis=1)"
      ],
      "metadata": {
        "id": "5NEL2-2s2eLf"
      },
      "execution_count": null,
      "outputs": []
    },
    {
      "cell_type": "code",
      "source": [
        "df2['Total Paid']=df2['Total Paid'].str.replace(\"$\",\"\")\n",
        "df2['Total Paid']=df2['Total Paid'].str.replace(\",\",\"\")\n"
      ],
      "metadata": {
        "id": "WqtaisxnURbJ",
        "outputId": "467b0f93-11c7-4f00-dba1-e7c33cd20541",
        "colab": {
          "base_uri": "https://localhost:8080/"
        }
      },
      "execution_count": null,
      "outputs": [
        {
          "output_type": "stream",
          "name": "stderr",
          "text": [
            "<ipython-input-9-8db09d7a9cb5>:1: FutureWarning: The default value of regex will change from True to False in a future version. In addition, single character regular expressions will *not* be treated as literal strings when regex=True.\n",
            "  df2['Total Paid']=df2['Total Paid'].str.replace(\"$\",\"\")\n"
          ]
        }
      ]
    },
    {
      "cell_type": "code",
      "source": [
        "df2['Total Paid'] = df2['Total Paid'].apply(lambda x : float(x))"
      ],
      "metadata": {
        "id": "k9sAYicqUvnO"
      },
      "execution_count": null,
      "outputs": []
    },
    {
      "cell_type": "code",
      "source": [
        "df2['Paid Days Lost'].value_counts()"
      ],
      "metadata": {
        "id": "EtOpBKM-VCyd",
        "outputId": "7cb036da-43d8-4943-ad99-9a46ba628a52",
        "colab": {
          "base_uri": "https://localhost:8080/"
        }
      },
      "execution_count": null,
      "outputs": [
        {
          "output_type": "execute_result",
          "data": {
            "text/plain": [
              "1         1140\n",
              "2         1101\n",
              "3          773\n",
              "4          573\n",
              "5          492\n",
              "          ... \n",
              "497.6        1\n",
              "53.06        1\n",
              "349.66       1\n",
              "79.33        1\n",
              "124.3        1\n",
              "Name: Paid Days Lost, Length: 7392, dtype: int64"
            ]
          },
          "metadata": {},
          "execution_count": 11
        }
      ]
    },
    {
      "cell_type": "code",
      "source": [
        "df2['Paid Days Lost']=df2['Paid Days Lost'].str.replace(\",\",\"\")\n",
        "df2['Paid Days Lost'] = df2['Paid Days Lost'].apply(lambda x : float(x))"
      ],
      "metadata": {
        "id": "YBud0wDqU8L9"
      },
      "execution_count": null,
      "outputs": []
    },
    {
      "cell_type": "code",
      "source": [
        "df2['Injury Agency Group'].value_counts()"
      ],
      "metadata": {
        "id": "nd3YrIvNU0RK",
        "outputId": "97d5aa2c-6a1f-4a45-bddf-f6fa63b5bed1",
        "colab": {
          "base_uri": "https://localhost:8080/"
        }
      },
      "execution_count": null,
      "outputs": [
        {
          "output_type": "execute_result",
          "data": {
            "text/plain": [
              "Animal, Human and Biological Agencies              7098\n",
              "Non-powered Handtools, Appliances and Equipment    5988\n",
              "Environmental Agencies                             3789\n",
              "Other and Unspecified Agencies                     2405\n",
              "Mobile Plant and Transport                         1174\n",
              "Materials and Substances                           1143\n",
              "Powered Equipment, Tools and Appliances            1034\n",
              "Machinery and (Mainly) Fixed Plant                  321\n",
              "Chemicals and Chemical Products                     187\n",
              "Name: Injury Agency Group, dtype: int64"
            ]
          },
          "metadata": {},
          "execution_count": 13
        }
      ]
    },
    {
      "cell_type": "code",
      "source": [
        "df2['Injury Agency Group']=df2['Injury Agency Group'].apply(lambda x : 'Other' if x=='Powered Equipment, Tools and Appliances' or x=='Machinery and (Mainly) Fixed Plant' or x=='Chemicals and Chemical Products' else x)"
      ],
      "metadata": {
        "id": "ZOurrh8NVspq"
      },
      "execution_count": null,
      "outputs": []
    },
    {
      "cell_type": "code",
      "source": [
        "df2['Injury Agency Group'].value_counts()"
      ],
      "metadata": {
        "id": "kkMY6BwvWGNt",
        "outputId": "e1b66c90-c878-4ad2-c753-0ae521f1c401",
        "colab": {
          "base_uri": "https://localhost:8080/"
        }
      },
      "execution_count": null,
      "outputs": [
        {
          "output_type": "execute_result",
          "data": {
            "text/plain": [
              "Animal, Human and Biological Agencies              7098\n",
              "Non-powered Handtools, Appliances and Equipment    5988\n",
              "Environmental Agencies                             3789\n",
              "Other and Unspecified Agencies                     2405\n",
              "Other                                              1542\n",
              "Mobile Plant and Transport                         1174\n",
              "Materials and Substances                           1143\n",
              "Name: Injury Agency Group, dtype: int64"
            ]
          },
          "metadata": {},
          "execution_count": 15
        }
      ]
    },
    {
      "cell_type": "code",
      "source": [
        "df2['Bodily Location Group'].value_counts()"
      ],
      "metadata": {
        "id": "mYDdi851ZH6V",
        "outputId": "c2b28882-53eb-405e-e03a-dd8e2509ad9d",
        "colab": {
          "base_uri": "https://localhost:8080/"
        }
      },
      "execution_count": null,
      "outputs": [
        {
          "output_type": "execute_result",
          "data": {
            "text/plain": [
              "Upper Limbs                                    6216\n",
              "Lower Limbs                                    5255\n",
              "Trunk (inc. Back)                              4450\n",
              "Multiple Locations                             2799\n",
              "Non-physical Locations (Psychological)         2075\n",
              "Head                                           1637\n",
              "Neck                                            574\n",
              "Systemic Locations (eg. Nervous, Digestive)     107\n",
              "Unspecified Locations                            26\n",
              "Name: Bodily Location Group, dtype: int64"
            ]
          },
          "metadata": {},
          "execution_count": 16
        }
      ]
    },
    {
      "cell_type": "code",
      "source": [
        "df2['Bodily Location Group']=df2['Bodily Location Group'].apply(lambda x : 'Other' if x=='Unspecified Locations' or x=='Systemic Locations (eg. Nervous, Digestive)' or x=='Neck' or x=='Non-physical Locations (Psychological)'\n",
        "or x=='Head'\n",
        " else x)"
      ],
      "metadata": {
        "id": "GxY9NNMRZZG3"
      },
      "execution_count": null,
      "outputs": []
    },
    {
      "cell_type": "code",
      "source": [
        "df2['Bodily Location Group'].value_counts()"
      ],
      "metadata": {
        "id": "GgTEO3FzZn7C",
        "outputId": "9561774e-d82d-4e40-d6ad-551e7f52f3c3",
        "colab": {
          "base_uri": "https://localhost:8080/"
        }
      },
      "execution_count": null,
      "outputs": [
        {
          "output_type": "execute_result",
          "data": {
            "text/plain": [
              "Upper Limbs           6216\n",
              "Lower Limbs           5255\n",
              "Trunk (inc. Back)     4450\n",
              "Other                 4419\n",
              "Multiple Locations    2799\n",
              "Name: Bodily Location Group, dtype: int64"
            ]
          },
          "metadata": {},
          "execution_count": 18
        }
      ]
    },
    {
      "cell_type": "code",
      "source": [
        "df2['Mechanism Group'].value_counts()"
      ],
      "metadata": {
        "id": "QeF6z97rZ8aU",
        "outputId": "5a606cdb-ddf2-4fc3-c569-c27157c8793b",
        "colab": {
          "base_uri": "https://localhost:8080/"
        }
      },
      "execution_count": null,
      "outputs": [
        {
          "output_type": "execute_result",
          "data": {
            "text/plain": [
              "Body Stressing                                8358\n",
              "Falls, Slips and Trips of a Person            5637\n",
              "Being Hit by Moving Objects                   5016\n",
              "Mental Stress                                 1909\n",
              "Hitting Objects with a Part of the Body       1118\n",
              "Other and Unspecified Mechanisms of Injury     328\n",
              "Chemicals and Other Substances                 295\n",
              "Heat, Radiation and Electricity                246\n",
              "Biological Factors                             205\n",
              "Sound and Pressure                              27\n",
              "Name: Mechanism Group, dtype: int64"
            ]
          },
          "metadata": {},
          "execution_count": 19
        }
      ]
    },
    {
      "cell_type": "code",
      "source": [
        "df2['Mechanism Group']=df2['Mechanism Group'].apply(lambda x : 'Other' if x=='Sound and Pressure' or x=='Biological Factors' or x=='Heat, Radiation and Electricity' or x=='Chemicals and Other Substances'\n",
        "or x=='Other and Unspecified Mechanisms of Injury' or x=='Hitting Objects with a Part of the Body' or x=='Mental Stress'\n",
        " else x)"
      ],
      "metadata": {
        "id": "4Feu6u8maIp2"
      },
      "execution_count": null,
      "outputs": []
    },
    {
      "cell_type": "code",
      "source": [
        "df2['Mechanism Group'].value_counts()"
      ],
      "metadata": {
        "id": "ArGF49kUaWyj",
        "outputId": "d6e987cc-779e-4abf-a70b-ff9a59d90f3d",
        "colab": {
          "base_uri": "https://localhost:8080/"
        }
      },
      "execution_count": null,
      "outputs": [
        {
          "output_type": "execute_result",
          "data": {
            "text/plain": [
              "Body Stressing                        8358\n",
              "Falls, Slips and Trips of a Person    5637\n",
              "Being Hit by Moving Objects           5016\n",
              "Other                                 4128\n",
              "Name: Mechanism Group, dtype: int64"
            ]
          },
          "metadata": {},
          "execution_count": 21
        }
      ]
    },
    {
      "cell_type": "code",
      "source": [
        "df2['Nature Group'].value_counts()\n"
      ],
      "metadata": {
        "id": "K3Nmh61NbJy4",
        "outputId": "d6922014-d27e-435e-f342-d96d96d14646",
        "colab": {
          "base_uri": "https://localhost:8080/"
        }
      },
      "execution_count": null,
      "outputs": [
        {
          "output_type": "execute_result",
          "data": {
            "text/plain": [
              "Sprains, Strains and Dislocations               10132\n",
              "Musculoskeletal System and Connective Tissue     3525\n",
              "Contusion and Crushing                           2476\n",
              "Mental Disorders                                 2197\n",
              "Fractures                                        1551\n",
              "All Other Diseases                               1126\n",
              "Open Wound                                        966\n",
              "Superficial Injury                                796\n",
              "Burns                                             232\n",
              "Foreign body, Ear, Eye, Nose, Respiratory          88\n",
              "Multiple Injuries                                  50\n",
              "Name: Nature Group, dtype: int64"
            ]
          },
          "metadata": {},
          "execution_count": 22
        }
      ]
    },
    {
      "cell_type": "code",
      "source": [
        "df2['Nature Group']=df2['Nature Group'].apply(lambda x : 'Other'  if  x!='Sprains, Strains and Dislocations' else x)"
      ],
      "metadata": {
        "id": "ebfQrmr1b1gt"
      },
      "execution_count": null,
      "outputs": []
    },
    {
      "cell_type": "code",
      "source": [
        "df2['Nature Group'].value_counts()"
      ],
      "metadata": {
        "id": "7a0sw6zxk8jB",
        "outputId": "f3d4cda8-e8a4-4952-8ebb-10e97aed3db8",
        "colab": {
          "base_uri": "https://localhost:8080/"
        }
      },
      "execution_count": null,
      "outputs": [
        {
          "output_type": "execute_result",
          "data": {
            "text/plain": [
              "Other                                13007\n",
              "Sprains, Strains and Dislocations    10132\n",
              "Name: Nature Group, dtype: int64"
            ]
          },
          "metadata": {},
          "execution_count": 24
        }
      ]
    },
    {
      "cell_type": "code",
      "source": [
        "df2['Major'].value_counts()\n",
        "df2['Major']=df2['Major'].apply(lambda x : 'Professionals' if x=='Professionals' or x=='Associate Professionals' else x )\n",
        "df2['Major']=df2['Major'].apply(lambda x : x if x=='Professionals' or x=='Intermediate Clerical, Sales and Service Workers' else 'Others' )"
      ],
      "metadata": {
        "id": "YXS5vrZndPRe"
      },
      "execution_count": null,
      "outputs": []
    },
    {
      "cell_type": "code",
      "source": [
        "df2['Major'].value_counts()"
      ],
      "metadata": {
        "id": "Z5BNSVLVcsqq",
        "outputId": "d05768c8-03f4-45f7-a65d-d164f4ad2399",
        "colab": {
          "base_uri": "https://localhost:8080/"
        }
      },
      "execution_count": null,
      "outputs": [
        {
          "output_type": "execute_result",
          "data": {
            "text/plain": [
              "Professionals                                       9607\n",
              "Intermediate Clerical, Sales and Service Workers    8159\n",
              "Others                                              5373\n",
              "Name: Major, dtype: int64"
            ]
          },
          "metadata": {},
          "execution_count": 26
        }
      ]
    },
    {
      "cell_type": "code",
      "source": [
        "df2['Gender'].value_counts()\n",
        "df2['Gender']=df2['Gender'].str.strip()\n",
        "df3 = df2[df2['Gender'] != 'Unknown']"
      ],
      "metadata": {
        "id": "ZtTBeaIXfbfk"
      },
      "execution_count": null,
      "outputs": []
    },
    {
      "cell_type": "code",
      "source": [
        "df3.columns"
      ],
      "metadata": {
        "id": "rFbRbMdohJ8h",
        "outputId": "166a8d84-ac40-4a10-d95c-74c655dd6075",
        "colab": {
          "base_uri": "https://localhost:8080/"
        }
      },
      "execution_count": null,
      "outputs": [
        {
          "output_type": "execute_result",
          "data": {
            "text/plain": [
              "Index(['Occurrence No', 'Agency NN', 'Incident Date', 'Finalised Date',\n",
              "       'Total Paid', 'Paid Days Lost', 'Service Start Date',\n",
              "       'Service End Date', 'Injury Agency Group', 'Bodily Location Group',\n",
              "       'Mechanism Group', 'Nature Group', 'Bodily Location', 'Mechanism',\n",
              "       'Nature', 'Major', 'Occupation', 'Gender', 'Date of Birth',\n",
              "       'Days to RTW', 'RTW Category', 'Age at Accident Date', 'Settled'],\n",
              "      dtype='object')"
            ]
          },
          "metadata": {},
          "execution_count": 28
        }
      ]
    },
    {
      "cell_type": "code",
      "source": [
        "df3['Gender'].value_counts()"
      ],
      "metadata": {
        "id": "OUwcOI8YkXx8",
        "outputId": "40164ca4-a0ff-4962-876b-a99863fcd141",
        "colab": {
          "base_uri": "https://localhost:8080/"
        }
      },
      "execution_count": null,
      "outputs": [
        {
          "output_type": "execute_result",
          "data": {
            "text/plain": [
              "Female    14492\n",
              "Male       8646\n",
              "Name: Gender, dtype: int64"
            ]
          },
          "metadata": {},
          "execution_count": 29
        }
      ]
    },
    {
      "cell_type": "code",
      "source": [
        "\n",
        "columns=['Injury Agency Group', 'Bodily Location Group','Mechanism Group','Nature Group','Major','Gender']\n",
        "for i in columns:\n",
        "  dummies = pd.get_dummies(i +'_'+ df3[i])\n",
        "  df3=pd.concat([df3,dummies],axis=1)"
      ],
      "metadata": {
        "id": "YukuIs4rf9PX"
      },
      "execution_count": null,
      "outputs": []
    },
    {
      "cell_type": "code",
      "source": [],
      "metadata": {
        "id": "cNJ74iuEsRYi"
      },
      "execution_count": null,
      "outputs": []
    },
    {
      "cell_type": "code",
      "source": [
        "df3.columns"
      ],
      "metadata": {
        "id": "WZtWOPrFnCu2",
        "outputId": "c4e291ab-bc13-4f96-eba6-006d5ddc9e65",
        "colab": {
          "base_uri": "https://localhost:8080/"
        }
      },
      "execution_count": null,
      "outputs": [
        {
          "output_type": "execute_result",
          "data": {
            "text/plain": [
              "Index(['Occurrence No', 'Agency NN', 'Incident Date', 'Finalised Date',\n",
              "       'Total Paid', 'Paid Days Lost', 'Service Start Date',\n",
              "       'Service End Date', 'Injury Agency Group', 'Bodily Location Group',\n",
              "       'Mechanism Group', 'Nature Group', 'Bodily Location', 'Mechanism',\n",
              "       'Nature', 'Major', 'Occupation', 'Gender', 'Date of Birth',\n",
              "       'Days to RTW', 'RTW Category', 'Age at Accident Date', 'Settled',\n",
              "       'Injury Agency Group_Animal, Human and Biological Agencies',\n",
              "       'Injury Agency Group_Environmental Agencies',\n",
              "       'Injury Agency Group_Materials and Substances',\n",
              "       'Injury Agency Group_Mobile Plant and Transport',\n",
              "       'Injury Agency Group_Non-powered Handtools, Appliances and Equipment',\n",
              "       'Injury Agency Group_Other',\n",
              "       'Injury Agency Group_Other and Unspecified Agencies',\n",
              "       'Bodily Location Group_Lower Limbs',\n",
              "       'Bodily Location Group_Multiple Locations',\n",
              "       'Bodily Location Group_Other',\n",
              "       'Bodily Location Group_Trunk (inc. Back)',\n",
              "       'Bodily Location Group_Upper Limbs',\n",
              "       'Mechanism Group_Being Hit by Moving Objects',\n",
              "       'Mechanism Group_Body Stressing',\n",
              "       'Mechanism Group_Falls, Slips and Trips of a Person',\n",
              "       'Mechanism Group_Other', 'Nature Group_Other',\n",
              "       'Nature Group_Sprains, Strains and Dislocations',\n",
              "       'Major_Intermediate Clerical, Sales and Service Workers',\n",
              "       'Major_Others', 'Major_Professionals', 'Gender_Female', 'Gender_Male'],\n",
              "      dtype='object')"
            ]
          },
          "metadata": {},
          "execution_count": 31
        }
      ]
    },
    {
      "cell_type": "code",
      "source": [
        "df3.drop(['Injury Agency Group', 'Bodily Location Group','Mechanism Group','Nature Group','Major','Gender'],axis=1)"
      ],
      "metadata": {
        "id": "fCtm0ftilX_9",
        "outputId": "b136a702-e86e-46db-86a9-1ba115263ead",
        "colab": {
          "base_uri": "https://localhost:8080/",
          "height": 991
        }
      },
      "execution_count": null,
      "outputs": [
        {
          "output_type": "execute_result",
          "data": {
            "text/plain": [
              "       Occurrence No  Agency NN Incident Date Finalised Date  Total Paid  \\\n",
              "0                  1       7069    01/11/2012     24/01/2013     8580.00   \n",
              "1                  1      63246    29/04/2021     10/06/2021      573.66   \n",
              "2                  1    2043954    16/11/2015     04/01/2016      796.97   \n",
              "3                  1      63246    04/09/2014     18/02/2015     5570.19   \n",
              "4                  2      63246    08/05/2014     29/01/2016    35406.63   \n",
              "...              ...        ...           ...            ...         ...   \n",
              "23134              1      63246    22/03/2022     26/06/2022     1470.12   \n",
              "23135              1      63246    06/08/2015     09/11/2015     4730.55   \n",
              "23136              1    2623845    27/07/2018     14/09/2018      943.10   \n",
              "23137              1    2253554    21/03/2013     28/02/2014     2062.57   \n",
              "23138              1    2623920    04/11/2021     28/11/2022   103955.89   \n",
              "\n",
              "       Paid Days Lost Service Start Date Service End Date  \\\n",
              "0               26.01         02/11/2012       18/12/2012   \n",
              "1                2.00         29/04/2021       30/04/2021   \n",
              "2                2.02         16/11/2015       17/11/2015   \n",
              "3               26.00         05/09/2014       10/10/2014   \n",
              "4               75.09         03/10/2014       12/01/2015   \n",
              "...               ...                ...              ...   \n",
              "23134            6.00         23/03/2022       30/03/2022   \n",
              "23135            5.00         10/08/2015       16/08/2015   \n",
              "23136            2.00         30/07/2018       02/08/2018   \n",
              "23137            3.00         22/03/2013       24/03/2013   \n",
              "23138          124.30         21/11/2021       15/09/2022   \n",
              "\n",
              "                    Bodily Location  \\\n",
              "0                           Stomach   \n",
              "1      Head - unspecified locations   \n",
              "2                              Face   \n",
              "3                              Knee   \n",
              "4                          Shoulder   \n",
              "...                             ...   \n",
              "23134     Back - other and multiple   \n",
              "23135                    Lower back   \n",
              "23136                        Breast   \n",
              "23137                         Ankle   \n",
              "23138                          Ribs   \n",
              "\n",
              "                                           Mechanism  ...  \\\n",
              "0      Muscular stress-lift, carry, put down objects  ...   \n",
              "1                            Falls on the same level  ...   \n",
              "2             Being assaulted by a person or persons  ...   \n",
              "3            Muscular stress with no objects handled  ...   \n",
              "4                            Falls on the same level  ...   \n",
              "...                                              ...  ...   \n",
              "23134          Muscular stress while handling object  ...   \n",
              "23135          Muscular stress while handling object  ...   \n",
              "23136         Being assaulted by a person or persons  ...   \n",
              "23137                        Falls on the same level  ...   \n",
              "23138             Being hit by a person accidentally  ...   \n",
              "\n",
              "      Mechanism Group_Body Stressing  \\\n",
              "0                                  1   \n",
              "1                                  0   \n",
              "2                                  0   \n",
              "3                                  1   \n",
              "4                                  0   \n",
              "...                              ...   \n",
              "23134                              1   \n",
              "23135                              1   \n",
              "23136                              0   \n",
              "23137                              0   \n",
              "23138                              0   \n",
              "\n",
              "      Mechanism Group_Falls, Slips and Trips of a Person  \\\n",
              "0                                                      0   \n",
              "1                                                      1   \n",
              "2                                                      0   \n",
              "3                                                      0   \n",
              "4                                                      1   \n",
              "...                                                  ...   \n",
              "23134                                                  0   \n",
              "23135                                                  0   \n",
              "23136                                                  0   \n",
              "23137                                                  1   \n",
              "23138                                                  0   \n",
              "\n",
              "      Mechanism Group_Other  Nature Group_Other  \\\n",
              "0                         0                   0   \n",
              "1                         0                   1   \n",
              "2                         0                   1   \n",
              "3                         0                   0   \n",
              "4                         0                   0   \n",
              "...                     ...                 ...   \n",
              "23134                     0                   0   \n",
              "23135                     0                   0   \n",
              "23136                     0                   1   \n",
              "23137                     0                   0   \n",
              "23138                     0                   1   \n",
              "\n",
              "      Nature Group_Sprains, Strains and Dislocations  \\\n",
              "0                                                  1   \n",
              "1                                                  0   \n",
              "2                                                  0   \n",
              "3                                                  1   \n",
              "4                                                  1   \n",
              "...                                              ...   \n",
              "23134                                              1   \n",
              "23135                                              1   \n",
              "23136                                              0   \n",
              "23137                                              1   \n",
              "23138                                              0   \n",
              "\n",
              "       Major_Intermediate Clerical, Sales and Service Workers Major_Others  \\\n",
              "0                                                      1                 0   \n",
              "1                                                      1                 0   \n",
              "2                                                      0                 0   \n",
              "3                                                      1                 0   \n",
              "4                                                      0                 1   \n",
              "...                                                  ...               ...   \n",
              "23134                                                  1                 0   \n",
              "23135                                                  0                 0   \n",
              "23136                                                  0                 0   \n",
              "23137                                                  1                 0   \n",
              "23138                                                  1                 0   \n",
              "\n",
              "       Major_Professionals  Gender_Female  Gender_Male  \n",
              "0                        0              0            1  \n",
              "1                        0              1            0  \n",
              "2                        1              0            1  \n",
              "3                        0              0            1  \n",
              "4                        0              0            1  \n",
              "...                    ...            ...          ...  \n",
              "23134                    0              1            0  \n",
              "23135                    1              1            0  \n",
              "23136                    1              1            0  \n",
              "23137                    0              1            0  \n",
              "23138                    0              1            0  \n",
              "\n",
              "[23138 rows x 40 columns]"
            ],
            "text/html": [
              "\n",
              "  <div id=\"df-29edcf0a-4c3a-4357-b3eb-4139c3f7667e\">\n",
              "    <div class=\"colab-df-container\">\n",
              "      <div>\n",
              "<style scoped>\n",
              "    .dataframe tbody tr th:only-of-type {\n",
              "        vertical-align: middle;\n",
              "    }\n",
              "\n",
              "    .dataframe tbody tr th {\n",
              "        vertical-align: top;\n",
              "    }\n",
              "\n",
              "    .dataframe thead th {\n",
              "        text-align: right;\n",
              "    }\n",
              "</style>\n",
              "<table border=\"1\" class=\"dataframe\">\n",
              "  <thead>\n",
              "    <tr style=\"text-align: right;\">\n",
              "      <th></th>\n",
              "      <th>Occurrence No</th>\n",
              "      <th>Agency NN</th>\n",
              "      <th>Incident Date</th>\n",
              "      <th>Finalised Date</th>\n",
              "      <th>Total Paid</th>\n",
              "      <th>Paid Days Lost</th>\n",
              "      <th>Service Start Date</th>\n",
              "      <th>Service End Date</th>\n",
              "      <th>Bodily Location</th>\n",
              "      <th>Mechanism</th>\n",
              "      <th>...</th>\n",
              "      <th>Mechanism Group_Body Stressing</th>\n",
              "      <th>Mechanism Group_Falls, Slips and Trips of a Person</th>\n",
              "      <th>Mechanism Group_Other</th>\n",
              "      <th>Nature Group_Other</th>\n",
              "      <th>Nature Group_Sprains, Strains and Dislocations</th>\n",
              "      <th>Major_Intermediate Clerical, Sales and Service Workers</th>\n",
              "      <th>Major_Others</th>\n",
              "      <th>Major_Professionals</th>\n",
              "      <th>Gender_Female</th>\n",
              "      <th>Gender_Male</th>\n",
              "    </tr>\n",
              "  </thead>\n",
              "  <tbody>\n",
              "    <tr>\n",
              "      <th>0</th>\n",
              "      <td>1</td>\n",
              "      <td>7069</td>\n",
              "      <td>01/11/2012</td>\n",
              "      <td>24/01/2013</td>\n",
              "      <td>8580.00</td>\n",
              "      <td>26.01</td>\n",
              "      <td>02/11/2012</td>\n",
              "      <td>18/12/2012</td>\n",
              "      <td>Stomach</td>\n",
              "      <td>Muscular stress-lift, carry, put down objects</td>\n",
              "      <td>...</td>\n",
              "      <td>1</td>\n",
              "      <td>0</td>\n",
              "      <td>0</td>\n",
              "      <td>0</td>\n",
              "      <td>1</td>\n",
              "      <td>1</td>\n",
              "      <td>0</td>\n",
              "      <td>0</td>\n",
              "      <td>0</td>\n",
              "      <td>1</td>\n",
              "    </tr>\n",
              "    <tr>\n",
              "      <th>1</th>\n",
              "      <td>1</td>\n",
              "      <td>63246</td>\n",
              "      <td>29/04/2021</td>\n",
              "      <td>10/06/2021</td>\n",
              "      <td>573.66</td>\n",
              "      <td>2.00</td>\n",
              "      <td>29/04/2021</td>\n",
              "      <td>30/04/2021</td>\n",
              "      <td>Head - unspecified locations</td>\n",
              "      <td>Falls on the same level</td>\n",
              "      <td>...</td>\n",
              "      <td>0</td>\n",
              "      <td>1</td>\n",
              "      <td>0</td>\n",
              "      <td>1</td>\n",
              "      <td>0</td>\n",
              "      <td>1</td>\n",
              "      <td>0</td>\n",
              "      <td>0</td>\n",
              "      <td>1</td>\n",
              "      <td>0</td>\n",
              "    </tr>\n",
              "    <tr>\n",
              "      <th>2</th>\n",
              "      <td>1</td>\n",
              "      <td>2043954</td>\n",
              "      <td>16/11/2015</td>\n",
              "      <td>04/01/2016</td>\n",
              "      <td>796.97</td>\n",
              "      <td>2.02</td>\n",
              "      <td>16/11/2015</td>\n",
              "      <td>17/11/2015</td>\n",
              "      <td>Face</td>\n",
              "      <td>Being assaulted by a person or persons</td>\n",
              "      <td>...</td>\n",
              "      <td>0</td>\n",
              "      <td>0</td>\n",
              "      <td>0</td>\n",
              "      <td>1</td>\n",
              "      <td>0</td>\n",
              "      <td>0</td>\n",
              "      <td>0</td>\n",
              "      <td>1</td>\n",
              "      <td>0</td>\n",
              "      <td>1</td>\n",
              "    </tr>\n",
              "    <tr>\n",
              "      <th>3</th>\n",
              "      <td>1</td>\n",
              "      <td>63246</td>\n",
              "      <td>04/09/2014</td>\n",
              "      <td>18/02/2015</td>\n",
              "      <td>5570.19</td>\n",
              "      <td>26.00</td>\n",
              "      <td>05/09/2014</td>\n",
              "      <td>10/10/2014</td>\n",
              "      <td>Knee</td>\n",
              "      <td>Muscular stress with no objects handled</td>\n",
              "      <td>...</td>\n",
              "      <td>1</td>\n",
              "      <td>0</td>\n",
              "      <td>0</td>\n",
              "      <td>0</td>\n",
              "      <td>1</td>\n",
              "      <td>1</td>\n",
              "      <td>0</td>\n",
              "      <td>0</td>\n",
              "      <td>0</td>\n",
              "      <td>1</td>\n",
              "    </tr>\n",
              "    <tr>\n",
              "      <th>4</th>\n",
              "      <td>2</td>\n",
              "      <td>63246</td>\n",
              "      <td>08/05/2014</td>\n",
              "      <td>29/01/2016</td>\n",
              "      <td>35406.63</td>\n",
              "      <td>75.09</td>\n",
              "      <td>03/10/2014</td>\n",
              "      <td>12/01/2015</td>\n",
              "      <td>Shoulder</td>\n",
              "      <td>Falls on the same level</td>\n",
              "      <td>...</td>\n",
              "      <td>0</td>\n",
              "      <td>1</td>\n",
              "      <td>0</td>\n",
              "      <td>0</td>\n",
              "      <td>1</td>\n",
              "      <td>0</td>\n",
              "      <td>1</td>\n",
              "      <td>0</td>\n",
              "      <td>0</td>\n",
              "      <td>1</td>\n",
              "    </tr>\n",
              "    <tr>\n",
              "      <th>...</th>\n",
              "      <td>...</td>\n",
              "      <td>...</td>\n",
              "      <td>...</td>\n",
              "      <td>...</td>\n",
              "      <td>...</td>\n",
              "      <td>...</td>\n",
              "      <td>...</td>\n",
              "      <td>...</td>\n",
              "      <td>...</td>\n",
              "      <td>...</td>\n",
              "      <td>...</td>\n",
              "      <td>...</td>\n",
              "      <td>...</td>\n",
              "      <td>...</td>\n",
              "      <td>...</td>\n",
              "      <td>...</td>\n",
              "      <td>...</td>\n",
              "      <td>...</td>\n",
              "      <td>...</td>\n",
              "      <td>...</td>\n",
              "      <td>...</td>\n",
              "    </tr>\n",
              "    <tr>\n",
              "      <th>23134</th>\n",
              "      <td>1</td>\n",
              "      <td>63246</td>\n",
              "      <td>22/03/2022</td>\n",
              "      <td>26/06/2022</td>\n",
              "      <td>1470.12</td>\n",
              "      <td>6.00</td>\n",
              "      <td>23/03/2022</td>\n",
              "      <td>30/03/2022</td>\n",
              "      <td>Back - other and multiple</td>\n",
              "      <td>Muscular stress while handling object</td>\n",
              "      <td>...</td>\n",
              "      <td>1</td>\n",
              "      <td>0</td>\n",
              "      <td>0</td>\n",
              "      <td>0</td>\n",
              "      <td>1</td>\n",
              "      <td>1</td>\n",
              "      <td>0</td>\n",
              "      <td>0</td>\n",
              "      <td>1</td>\n",
              "      <td>0</td>\n",
              "    </tr>\n",
              "    <tr>\n",
              "      <th>23135</th>\n",
              "      <td>1</td>\n",
              "      <td>63246</td>\n",
              "      <td>06/08/2015</td>\n",
              "      <td>09/11/2015</td>\n",
              "      <td>4730.55</td>\n",
              "      <td>5.00</td>\n",
              "      <td>10/08/2015</td>\n",
              "      <td>16/08/2015</td>\n",
              "      <td>Lower back</td>\n",
              "      <td>Muscular stress while handling object</td>\n",
              "      <td>...</td>\n",
              "      <td>1</td>\n",
              "      <td>0</td>\n",
              "      <td>0</td>\n",
              "      <td>0</td>\n",
              "      <td>1</td>\n",
              "      <td>0</td>\n",
              "      <td>0</td>\n",
              "      <td>1</td>\n",
              "      <td>1</td>\n",
              "      <td>0</td>\n",
              "    </tr>\n",
              "    <tr>\n",
              "      <th>23136</th>\n",
              "      <td>1</td>\n",
              "      <td>2623845</td>\n",
              "      <td>27/07/2018</td>\n",
              "      <td>14/09/2018</td>\n",
              "      <td>943.10</td>\n",
              "      <td>2.00</td>\n",
              "      <td>30/07/2018</td>\n",
              "      <td>02/08/2018</td>\n",
              "      <td>Breast</td>\n",
              "      <td>Being assaulted by a person or persons</td>\n",
              "      <td>...</td>\n",
              "      <td>0</td>\n",
              "      <td>0</td>\n",
              "      <td>0</td>\n",
              "      <td>1</td>\n",
              "      <td>0</td>\n",
              "      <td>0</td>\n",
              "      <td>0</td>\n",
              "      <td>1</td>\n",
              "      <td>1</td>\n",
              "      <td>0</td>\n",
              "    </tr>\n",
              "    <tr>\n",
              "      <th>23137</th>\n",
              "      <td>1</td>\n",
              "      <td>2253554</td>\n",
              "      <td>21/03/2013</td>\n",
              "      <td>28/02/2014</td>\n",
              "      <td>2062.57</td>\n",
              "      <td>3.00</td>\n",
              "      <td>22/03/2013</td>\n",
              "      <td>24/03/2013</td>\n",
              "      <td>Ankle</td>\n",
              "      <td>Falls on the same level</td>\n",
              "      <td>...</td>\n",
              "      <td>0</td>\n",
              "      <td>1</td>\n",
              "      <td>0</td>\n",
              "      <td>0</td>\n",
              "      <td>1</td>\n",
              "      <td>1</td>\n",
              "      <td>0</td>\n",
              "      <td>0</td>\n",
              "      <td>1</td>\n",
              "      <td>0</td>\n",
              "    </tr>\n",
              "    <tr>\n",
              "      <th>23138</th>\n",
              "      <td>1</td>\n",
              "      <td>2623920</td>\n",
              "      <td>04/11/2021</td>\n",
              "      <td>28/11/2022</td>\n",
              "      <td>103955.89</td>\n",
              "      <td>124.30</td>\n",
              "      <td>21/11/2021</td>\n",
              "      <td>15/09/2022</td>\n",
              "      <td>Ribs</td>\n",
              "      <td>Being hit by a person accidentally</td>\n",
              "      <td>...</td>\n",
              "      <td>0</td>\n",
              "      <td>0</td>\n",
              "      <td>0</td>\n",
              "      <td>1</td>\n",
              "      <td>0</td>\n",
              "      <td>1</td>\n",
              "      <td>0</td>\n",
              "      <td>0</td>\n",
              "      <td>1</td>\n",
              "      <td>0</td>\n",
              "    </tr>\n",
              "  </tbody>\n",
              "</table>\n",
              "<p>23138 rows × 40 columns</p>\n",
              "</div>\n",
              "      <button class=\"colab-df-convert\" onclick=\"convertToInteractive('df-29edcf0a-4c3a-4357-b3eb-4139c3f7667e')\"\n",
              "              title=\"Convert this dataframe to an interactive table.\"\n",
              "              style=\"display:none;\">\n",
              "        \n",
              "  <svg xmlns=\"http://www.w3.org/2000/svg\" height=\"24px\"viewBox=\"0 0 24 24\"\n",
              "       width=\"24px\">\n",
              "    <path d=\"M0 0h24v24H0V0z\" fill=\"none\"/>\n",
              "    <path d=\"M18.56 5.44l.94 2.06.94-2.06 2.06-.94-2.06-.94-.94-2.06-.94 2.06-2.06.94zm-11 1L8.5 8.5l.94-2.06 2.06-.94-2.06-.94L8.5 2.5l-.94 2.06-2.06.94zm10 10l.94 2.06.94-2.06 2.06-.94-2.06-.94-.94-2.06-.94 2.06-2.06.94z\"/><path d=\"M17.41 7.96l-1.37-1.37c-.4-.4-.92-.59-1.43-.59-.52 0-1.04.2-1.43.59L10.3 9.45l-7.72 7.72c-.78.78-.78 2.05 0 2.83L4 21.41c.39.39.9.59 1.41.59.51 0 1.02-.2 1.41-.59l7.78-7.78 2.81-2.81c.8-.78.8-2.07 0-2.86zM5.41 20L4 18.59l7.72-7.72 1.47 1.35L5.41 20z\"/>\n",
              "  </svg>\n",
              "      </button>\n",
              "      \n",
              "  <style>\n",
              "    .colab-df-container {\n",
              "      display:flex;\n",
              "      flex-wrap:wrap;\n",
              "      gap: 12px;\n",
              "    }\n",
              "\n",
              "    .colab-df-convert {\n",
              "      background-color: #E8F0FE;\n",
              "      border: none;\n",
              "      border-radius: 50%;\n",
              "      cursor: pointer;\n",
              "      display: none;\n",
              "      fill: #1967D2;\n",
              "      height: 32px;\n",
              "      padding: 0 0 0 0;\n",
              "      width: 32px;\n",
              "    }\n",
              "\n",
              "    .colab-df-convert:hover {\n",
              "      background-color: #E2EBFA;\n",
              "      box-shadow: 0px 1px 2px rgba(60, 64, 67, 0.3), 0px 1px 3px 1px rgba(60, 64, 67, 0.15);\n",
              "      fill: #174EA6;\n",
              "    }\n",
              "\n",
              "    [theme=dark] .colab-df-convert {\n",
              "      background-color: #3B4455;\n",
              "      fill: #D2E3FC;\n",
              "    }\n",
              "\n",
              "    [theme=dark] .colab-df-convert:hover {\n",
              "      background-color: #434B5C;\n",
              "      box-shadow: 0px 1px 3px 1px rgba(0, 0, 0, 0.15);\n",
              "      filter: drop-shadow(0px 1px 2px rgba(0, 0, 0, 0.3));\n",
              "      fill: #FFFFFF;\n",
              "    }\n",
              "  </style>\n",
              "\n",
              "      <script>\n",
              "        const buttonEl =\n",
              "          document.querySelector('#df-29edcf0a-4c3a-4357-b3eb-4139c3f7667e button.colab-df-convert');\n",
              "        buttonEl.style.display =\n",
              "          google.colab.kernel.accessAllowed ? 'block' : 'none';\n",
              "\n",
              "        async function convertToInteractive(key) {\n",
              "          const element = document.querySelector('#df-29edcf0a-4c3a-4357-b3eb-4139c3f7667e');\n",
              "          const dataTable =\n",
              "            await google.colab.kernel.invokeFunction('convertToInteractive',\n",
              "                                                     [key], {});\n",
              "          if (!dataTable) return;\n",
              "\n",
              "          const docLinkHtml = 'Like what you see? Visit the ' +\n",
              "            '<a target=\"_blank\" href=https://colab.research.google.com/notebooks/data_table.ipynb>data table notebook</a>'\n",
              "            + ' to learn more about interactive tables.';\n",
              "          element.innerHTML = '';\n",
              "          dataTable['output_type'] = 'display_data';\n",
              "          await google.colab.output.renderOutput(dataTable, element);\n",
              "          const docLink = document.createElement('div');\n",
              "          docLink.innerHTML = docLinkHtml;\n",
              "          element.appendChild(docLink);\n",
              "        }\n",
              "      </script>\n",
              "    </div>\n",
              "  </div>\n",
              "  "
            ]
          },
          "metadata": {},
          "execution_count": 32
        }
      ]
    },
    {
      "cell_type": "code",
      "source": [
        "df3.columns"
      ],
      "metadata": {
        "id": "3OTMFJLzlgwu",
        "outputId": "aac3efe1-e372-446f-d718-ffb172a7c6ba",
        "colab": {
          "base_uri": "https://localhost:8080/"
        }
      },
      "execution_count": null,
      "outputs": [
        {
          "output_type": "execute_result",
          "data": {
            "text/plain": [
              "Index(['Occurrence No', 'Agency NN', 'Incident Date', 'Finalised Date',\n",
              "       'Total Paid', 'Paid Days Lost', 'Service Start Date',\n",
              "       'Service End Date', 'Injury Agency Group', 'Bodily Location Group',\n",
              "       'Mechanism Group', 'Nature Group', 'Bodily Location', 'Mechanism',\n",
              "       'Nature', 'Major', 'Occupation', 'Gender', 'Date of Birth',\n",
              "       'Days to RTW', 'RTW Category', 'Age at Accident Date', 'Settled',\n",
              "       'Injury Agency Group_Animal, Human and Biological Agencies',\n",
              "       'Injury Agency Group_Environmental Agencies',\n",
              "       'Injury Agency Group_Materials and Substances',\n",
              "       'Injury Agency Group_Mobile Plant and Transport',\n",
              "       'Injury Agency Group_Non-powered Handtools, Appliances and Equipment',\n",
              "       'Injury Agency Group_Other',\n",
              "       'Injury Agency Group_Other and Unspecified Agencies',\n",
              "       'Bodily Location Group_Lower Limbs',\n",
              "       'Bodily Location Group_Multiple Locations',\n",
              "       'Bodily Location Group_Other',\n",
              "       'Bodily Location Group_Trunk (inc. Back)',\n",
              "       'Bodily Location Group_Upper Limbs',\n",
              "       'Mechanism Group_Being Hit by Moving Objects',\n",
              "       'Mechanism Group_Body Stressing',\n",
              "       'Mechanism Group_Falls, Slips and Trips of a Person',\n",
              "       'Mechanism Group_Other', 'Nature Group_Other',\n",
              "       'Nature Group_Sprains, Strains and Dislocations',\n",
              "       'Major_Intermediate Clerical, Sales and Service Workers',\n",
              "       'Major_Others', 'Major_Professionals', 'Gender_Female', 'Gender_Male'],\n",
              "      dtype='object')"
            ]
          },
          "metadata": {},
          "execution_count": 33
        }
      ]
    },
    {
      "cell_type": "code",
      "source": [
        "df5=df3.drop (['Occurrence No',  'Incident Date', 'Finalised Date',\n",
        "       'Service Start Date', 'Service End Date', 'Injury Agency Group', 'Bodily Location Group',\n",
        "       'Mechanism Group', 'Nature Group', 'Bodily Location', 'Mechanism',\n",
        "       'Nature', 'Major', 'Occupation', 'Gender', 'Date of Birth',\n",
        "        'Settled'\n",
        "       ],axis=1)"
      ],
      "metadata": {
        "id": "5Vj0Wmt6nMxY"
      },
      "execution_count": null,
      "outputs": []
    },
    {
      "cell_type": "code",
      "source": [
        "df5.columns"
      ],
      "metadata": {
        "id": "Awh4P-ReoPxJ",
        "outputId": "6af54994-f18e-4a71-84c3-492ead75ab12",
        "colab": {
          "base_uri": "https://localhost:8080/"
        }
      },
      "execution_count": null,
      "outputs": [
        {
          "output_type": "execute_result",
          "data": {
            "text/plain": [
              "Index(['Agency NN', 'Total Paid', 'Paid Days Lost', 'Days to RTW',\n",
              "       'RTW Category', 'Age at Accident Date',\n",
              "       'Injury Agency Group_Animal, Human and Biological Agencies',\n",
              "       'Injury Agency Group_Environmental Agencies',\n",
              "       'Injury Agency Group_Materials and Substances',\n",
              "       'Injury Agency Group_Mobile Plant and Transport',\n",
              "       'Injury Agency Group_Non-powered Handtools, Appliances and Equipment',\n",
              "       'Injury Agency Group_Other',\n",
              "       'Injury Agency Group_Other and Unspecified Agencies',\n",
              "       'Bodily Location Group_Lower Limbs',\n",
              "       'Bodily Location Group_Multiple Locations',\n",
              "       'Bodily Location Group_Other',\n",
              "       'Bodily Location Group_Trunk (inc. Back)',\n",
              "       'Bodily Location Group_Upper Limbs',\n",
              "       'Mechanism Group_Being Hit by Moving Objects',\n",
              "       'Mechanism Group_Body Stressing',\n",
              "       'Mechanism Group_Falls, Slips and Trips of a Person',\n",
              "       'Mechanism Group_Other', 'Nature Group_Other',\n",
              "       'Nature Group_Sprains, Strains and Dislocations',\n",
              "       'Major_Intermediate Clerical, Sales and Service Workers',\n",
              "       'Major_Others', 'Major_Professionals', 'Gender_Female', 'Gender_Male'],\n",
              "      dtype='object')"
            ]
          },
          "metadata": {},
          "execution_count": 35
        }
      ]
    },
    {
      "cell_type": "code",
      "source": [
        "df5.dtypes"
      ],
      "metadata": {
        "colab": {
          "base_uri": "https://localhost:8080/"
        },
        "id": "tyvMoWI53A7x",
        "outputId": "cddc5197-b9a7-4fee-97ad-55f8c882c9ab"
      },
      "execution_count": null,
      "outputs": [
        {
          "output_type": "execute_result",
          "data": {
            "text/plain": [
              "Agency NN                                                                int64\n",
              "Total Paid                                                             float64\n",
              "Paid Days Lost                                                         float64\n",
              "Days to RTW                                                              int64\n",
              "RTW Category                                                            object\n",
              "Age at Accident Date                                                     int64\n",
              "Injury Agency Group_Animal, Human and Biological Agencies                uint8\n",
              "Injury Agency Group_Environmental Agencies                               uint8\n",
              "Injury Agency Group_Materials and Substances                             uint8\n",
              "Injury Agency Group_Mobile Plant and Transport                           uint8\n",
              "Injury Agency Group_Non-powered Handtools, Appliances and Equipment      uint8\n",
              "Injury Agency Group_Other                                                uint8\n",
              "Injury Agency Group_Other and Unspecified Agencies                       uint8\n",
              "Bodily Location Group_Lower Limbs                                        uint8\n",
              "Bodily Location Group_Multiple Locations                                 uint8\n",
              "Bodily Location Group_Other                                              uint8\n",
              "Bodily Location Group_Trunk (inc. Back)                                  uint8\n",
              "Bodily Location Group_Upper Limbs                                        uint8\n",
              "Mechanism Group_Being Hit by Moving Objects                              uint8\n",
              "Mechanism Group_Body Stressing                                           uint8\n",
              "Mechanism Group_Falls, Slips and Trips of a Person                       uint8\n",
              "Mechanism Group_Other                                                    uint8\n",
              "Nature Group_Other                                                       uint8\n",
              "Nature Group_Sprains, Strains and Dislocations                           uint8\n",
              "Major_Intermediate Clerical, Sales and Service Workers                   uint8\n",
              "Major_Others                                                             uint8\n",
              "Major_Professionals                                                      uint8\n",
              "Gender_Female                                                            uint8\n",
              "Gender_Male                                                              uint8\n",
              "dtype: object"
            ]
          },
          "metadata": {},
          "execution_count": 36
        }
      ]
    },
    {
      "cell_type": "code",
      "source": [
        "df5['RTW Category'].value_counts()"
      ],
      "metadata": {
        "id": "2LDvYpPrtr_j",
        "outputId": "8c4fdfed-0706-40d0-a6b3-5a033df130ba",
        "colab": {
          "base_uri": "https://localhost:8080/"
        }
      },
      "execution_count": null,
      "outputs": [
        {
          "output_type": "execute_result",
          "data": {
            "text/plain": [
              "RTW 13 Weeks        15112\n",
              "Not RTW 26 Weeks     5535\n",
              "RTW 26 Weeks         2491\n",
              "Name: RTW Category, dtype: int64"
            ]
          },
          "metadata": {},
          "execution_count": 37
        }
      ]
    },
    {
      "cell_type": "markdown",
      "source": [
        "**Drop the columns with null values**"
      ],
      "metadata": {
        "id": "yhMc1Q-34KHr"
      }
    },
    {
      "cell_type": "code",
      "source": [
        "df5.isna().sum()"
      ],
      "metadata": {
        "colab": {
          "base_uri": "https://localhost:8080/"
        },
        "id": "ntS2kUZR4N34",
        "outputId": "795c4388-f918-496b-badd-7e8a229e862f"
      },
      "execution_count": null,
      "outputs": [
        {
          "output_type": "execute_result",
          "data": {
            "text/plain": [
              "Agency NN                                                              0\n",
              "Total Paid                                                             0\n",
              "Paid Days Lost                                                         0\n",
              "Days to RTW                                                            0\n",
              "RTW Category                                                           0\n",
              "Age at Accident Date                                                   0\n",
              "Injury Agency Group_Animal, Human and Biological Agencies              0\n",
              "Injury Agency Group_Environmental Agencies                             0\n",
              "Injury Agency Group_Materials and Substances                           0\n",
              "Injury Agency Group_Mobile Plant and Transport                         0\n",
              "Injury Agency Group_Non-powered Handtools, Appliances and Equipment    0\n",
              "Injury Agency Group_Other                                              0\n",
              "Injury Agency Group_Other and Unspecified Agencies                     0\n",
              "Bodily Location Group_Lower Limbs                                      0\n",
              "Bodily Location Group_Multiple Locations                               0\n",
              "Bodily Location Group_Other                                            0\n",
              "Bodily Location Group_Trunk (inc. Back)                                0\n",
              "Bodily Location Group_Upper Limbs                                      0\n",
              "Mechanism Group_Being Hit by Moving Objects                            0\n",
              "Mechanism Group_Body Stressing                                         0\n",
              "Mechanism Group_Falls, Slips and Trips of a Person                     0\n",
              "Mechanism Group_Other                                                  0\n",
              "Nature Group_Other                                                     0\n",
              "Nature Group_Sprains, Strains and Dislocations                         0\n",
              "Major_Intermediate Clerical, Sales and Service Workers                 0\n",
              "Major_Others                                                           0\n",
              "Major_Professionals                                                    0\n",
              "Gender_Female                                                          0\n",
              "Gender_Male                                                            0\n",
              "dtype: int64"
            ]
          },
          "metadata": {},
          "execution_count": 38
        }
      ]
    },
    {
      "cell_type": "code",
      "source": [
        "x = df5.drop(['RTW Category','Paid Days Lost','Days to RTW','Total Paid'],axis=1)\n",
        "y = df5['RTW Category']"
      ],
      "metadata": {
        "id": "Ii81cy6t7PkS"
      },
      "execution_count": null,
      "outputs": []
    },
    {
      "cell_type": "code",
      "source": [
        "x.head()"
      ],
      "metadata": {
        "colab": {
          "base_uri": "https://localhost:8080/",
          "height": 421
        },
        "id": "ahY7m9HA43lt",
        "outputId": "cdf4a234-805a-4433-c135-93ff1c6269ae"
      },
      "execution_count": null,
      "outputs": [
        {
          "output_type": "execute_result",
          "data": {
            "text/plain": [
              "   Agency NN  Age at Accident Date  \\\n",
              "0       7069                    55   \n",
              "1      63246                    49   \n",
              "2    2043954                    48   \n",
              "3      63246                    41   \n",
              "4      63246                    63   \n",
              "\n",
              "   Injury Agency Group_Animal, Human and Biological Agencies  \\\n",
              "0                                                  0           \n",
              "1                                                  0           \n",
              "2                                                  1           \n",
              "3                                                  1           \n",
              "4                                                  0           \n",
              "\n",
              "   Injury Agency Group_Environmental Agencies  \\\n",
              "0                                           0   \n",
              "1                                           0   \n",
              "2                                           0   \n",
              "3                                           0   \n",
              "4                                           1   \n",
              "\n",
              "   Injury Agency Group_Materials and Substances  \\\n",
              "0                                             0   \n",
              "1                                             0   \n",
              "2                                             0   \n",
              "3                                             0   \n",
              "4                                             0   \n",
              "\n",
              "   Injury Agency Group_Mobile Plant and Transport  \\\n",
              "0                                               1   \n",
              "1                                               0   \n",
              "2                                               0   \n",
              "3                                               0   \n",
              "4                                               0   \n",
              "\n",
              "   Injury Agency Group_Non-powered Handtools, Appliances and Equipment  \\\n",
              "0                                                  0                     \n",
              "1                                                  1                     \n",
              "2                                                  0                     \n",
              "3                                                  0                     \n",
              "4                                                  0                     \n",
              "\n",
              "   Injury Agency Group_Other  \\\n",
              "0                          0   \n",
              "1                          0   \n",
              "2                          0   \n",
              "3                          0   \n",
              "4                          0   \n",
              "\n",
              "   Injury Agency Group_Other and Unspecified Agencies  \\\n",
              "0                                                  0    \n",
              "1                                                  0    \n",
              "2                                                  0    \n",
              "3                                                  0    \n",
              "4                                                  0    \n",
              "\n",
              "   Bodily Location Group_Lower Limbs  ...  Mechanism Group_Body Stressing  \\\n",
              "0                                  0  ...                               1   \n",
              "1                                  0  ...                               0   \n",
              "2                                  0  ...                               0   \n",
              "3                                  1  ...                               1   \n",
              "4                                  0  ...                               0   \n",
              "\n",
              "   Mechanism Group_Falls, Slips and Trips of a Person  Mechanism Group_Other  \\\n",
              "0                                                  0                       0   \n",
              "1                                                  1                       0   \n",
              "2                                                  0                       0   \n",
              "3                                                  0                       0   \n",
              "4                                                  1                       0   \n",
              "\n",
              "   Nature Group_Other  Nature Group_Sprains, Strains and Dislocations  \\\n",
              "0                   0                                               1   \n",
              "1                   1                                               0   \n",
              "2                   1                                               0   \n",
              "3                   0                                               1   \n",
              "4                   0                                               1   \n",
              "\n",
              "   Major_Intermediate Clerical, Sales and Service Workers  Major_Others  \\\n",
              "0                                                  1                  0   \n",
              "1                                                  1                  0   \n",
              "2                                                  0                  0   \n",
              "3                                                  1                  0   \n",
              "4                                                  0                  1   \n",
              "\n",
              "   Major_Professionals  Gender_Female  Gender_Male  \n",
              "0                    0              0            1  \n",
              "1                    0              1            0  \n",
              "2                    1              0            1  \n",
              "3                    0              0            1  \n",
              "4                    0              0            1  \n",
              "\n",
              "[5 rows x 25 columns]"
            ],
            "text/html": [
              "\n",
              "  <div id=\"df-5322a3ee-da85-4c7d-b30b-3b3e3e4f6025\">\n",
              "    <div class=\"colab-df-container\">\n",
              "      <div>\n",
              "<style scoped>\n",
              "    .dataframe tbody tr th:only-of-type {\n",
              "        vertical-align: middle;\n",
              "    }\n",
              "\n",
              "    .dataframe tbody tr th {\n",
              "        vertical-align: top;\n",
              "    }\n",
              "\n",
              "    .dataframe thead th {\n",
              "        text-align: right;\n",
              "    }\n",
              "</style>\n",
              "<table border=\"1\" class=\"dataframe\">\n",
              "  <thead>\n",
              "    <tr style=\"text-align: right;\">\n",
              "      <th></th>\n",
              "      <th>Agency NN</th>\n",
              "      <th>Age at Accident Date</th>\n",
              "      <th>Injury Agency Group_Animal, Human and Biological Agencies</th>\n",
              "      <th>Injury Agency Group_Environmental Agencies</th>\n",
              "      <th>Injury Agency Group_Materials and Substances</th>\n",
              "      <th>Injury Agency Group_Mobile Plant and Transport</th>\n",
              "      <th>Injury Agency Group_Non-powered Handtools, Appliances and Equipment</th>\n",
              "      <th>Injury Agency Group_Other</th>\n",
              "      <th>Injury Agency Group_Other and Unspecified Agencies</th>\n",
              "      <th>Bodily Location Group_Lower Limbs</th>\n",
              "      <th>...</th>\n",
              "      <th>Mechanism Group_Body Stressing</th>\n",
              "      <th>Mechanism Group_Falls, Slips and Trips of a Person</th>\n",
              "      <th>Mechanism Group_Other</th>\n",
              "      <th>Nature Group_Other</th>\n",
              "      <th>Nature Group_Sprains, Strains and Dislocations</th>\n",
              "      <th>Major_Intermediate Clerical, Sales and Service Workers</th>\n",
              "      <th>Major_Others</th>\n",
              "      <th>Major_Professionals</th>\n",
              "      <th>Gender_Female</th>\n",
              "      <th>Gender_Male</th>\n",
              "    </tr>\n",
              "  </thead>\n",
              "  <tbody>\n",
              "    <tr>\n",
              "      <th>0</th>\n",
              "      <td>7069</td>\n",
              "      <td>55</td>\n",
              "      <td>0</td>\n",
              "      <td>0</td>\n",
              "      <td>0</td>\n",
              "      <td>1</td>\n",
              "      <td>0</td>\n",
              "      <td>0</td>\n",
              "      <td>0</td>\n",
              "      <td>0</td>\n",
              "      <td>...</td>\n",
              "      <td>1</td>\n",
              "      <td>0</td>\n",
              "      <td>0</td>\n",
              "      <td>0</td>\n",
              "      <td>1</td>\n",
              "      <td>1</td>\n",
              "      <td>0</td>\n",
              "      <td>0</td>\n",
              "      <td>0</td>\n",
              "      <td>1</td>\n",
              "    </tr>\n",
              "    <tr>\n",
              "      <th>1</th>\n",
              "      <td>63246</td>\n",
              "      <td>49</td>\n",
              "      <td>0</td>\n",
              "      <td>0</td>\n",
              "      <td>0</td>\n",
              "      <td>0</td>\n",
              "      <td>1</td>\n",
              "      <td>0</td>\n",
              "      <td>0</td>\n",
              "      <td>0</td>\n",
              "      <td>...</td>\n",
              "      <td>0</td>\n",
              "      <td>1</td>\n",
              "      <td>0</td>\n",
              "      <td>1</td>\n",
              "      <td>0</td>\n",
              "      <td>1</td>\n",
              "      <td>0</td>\n",
              "      <td>0</td>\n",
              "      <td>1</td>\n",
              "      <td>0</td>\n",
              "    </tr>\n",
              "    <tr>\n",
              "      <th>2</th>\n",
              "      <td>2043954</td>\n",
              "      <td>48</td>\n",
              "      <td>1</td>\n",
              "      <td>0</td>\n",
              "      <td>0</td>\n",
              "      <td>0</td>\n",
              "      <td>0</td>\n",
              "      <td>0</td>\n",
              "      <td>0</td>\n",
              "      <td>0</td>\n",
              "      <td>...</td>\n",
              "      <td>0</td>\n",
              "      <td>0</td>\n",
              "      <td>0</td>\n",
              "      <td>1</td>\n",
              "      <td>0</td>\n",
              "      <td>0</td>\n",
              "      <td>0</td>\n",
              "      <td>1</td>\n",
              "      <td>0</td>\n",
              "      <td>1</td>\n",
              "    </tr>\n",
              "    <tr>\n",
              "      <th>3</th>\n",
              "      <td>63246</td>\n",
              "      <td>41</td>\n",
              "      <td>1</td>\n",
              "      <td>0</td>\n",
              "      <td>0</td>\n",
              "      <td>0</td>\n",
              "      <td>0</td>\n",
              "      <td>0</td>\n",
              "      <td>0</td>\n",
              "      <td>1</td>\n",
              "      <td>...</td>\n",
              "      <td>1</td>\n",
              "      <td>0</td>\n",
              "      <td>0</td>\n",
              "      <td>0</td>\n",
              "      <td>1</td>\n",
              "      <td>1</td>\n",
              "      <td>0</td>\n",
              "      <td>0</td>\n",
              "      <td>0</td>\n",
              "      <td>1</td>\n",
              "    </tr>\n",
              "    <tr>\n",
              "      <th>4</th>\n",
              "      <td>63246</td>\n",
              "      <td>63</td>\n",
              "      <td>0</td>\n",
              "      <td>1</td>\n",
              "      <td>0</td>\n",
              "      <td>0</td>\n",
              "      <td>0</td>\n",
              "      <td>0</td>\n",
              "      <td>0</td>\n",
              "      <td>0</td>\n",
              "      <td>...</td>\n",
              "      <td>0</td>\n",
              "      <td>1</td>\n",
              "      <td>0</td>\n",
              "      <td>0</td>\n",
              "      <td>1</td>\n",
              "      <td>0</td>\n",
              "      <td>1</td>\n",
              "      <td>0</td>\n",
              "      <td>0</td>\n",
              "      <td>1</td>\n",
              "    </tr>\n",
              "  </tbody>\n",
              "</table>\n",
              "<p>5 rows × 25 columns</p>\n",
              "</div>\n",
              "      <button class=\"colab-df-convert\" onclick=\"convertToInteractive('df-5322a3ee-da85-4c7d-b30b-3b3e3e4f6025')\"\n",
              "              title=\"Convert this dataframe to an interactive table.\"\n",
              "              style=\"display:none;\">\n",
              "        \n",
              "  <svg xmlns=\"http://www.w3.org/2000/svg\" height=\"24px\"viewBox=\"0 0 24 24\"\n",
              "       width=\"24px\">\n",
              "    <path d=\"M0 0h24v24H0V0z\" fill=\"none\"/>\n",
              "    <path d=\"M18.56 5.44l.94 2.06.94-2.06 2.06-.94-2.06-.94-.94-2.06-.94 2.06-2.06.94zm-11 1L8.5 8.5l.94-2.06 2.06-.94-2.06-.94L8.5 2.5l-.94 2.06-2.06.94zm10 10l.94 2.06.94-2.06 2.06-.94-2.06-.94-.94-2.06-.94 2.06-2.06.94z\"/><path d=\"M17.41 7.96l-1.37-1.37c-.4-.4-.92-.59-1.43-.59-.52 0-1.04.2-1.43.59L10.3 9.45l-7.72 7.72c-.78.78-.78 2.05 0 2.83L4 21.41c.39.39.9.59 1.41.59.51 0 1.02-.2 1.41-.59l7.78-7.78 2.81-2.81c.8-.78.8-2.07 0-2.86zM5.41 20L4 18.59l7.72-7.72 1.47 1.35L5.41 20z\"/>\n",
              "  </svg>\n",
              "      </button>\n",
              "      \n",
              "  <style>\n",
              "    .colab-df-container {\n",
              "      display:flex;\n",
              "      flex-wrap:wrap;\n",
              "      gap: 12px;\n",
              "    }\n",
              "\n",
              "    .colab-df-convert {\n",
              "      background-color: #E8F0FE;\n",
              "      border: none;\n",
              "      border-radius: 50%;\n",
              "      cursor: pointer;\n",
              "      display: none;\n",
              "      fill: #1967D2;\n",
              "      height: 32px;\n",
              "      padding: 0 0 0 0;\n",
              "      width: 32px;\n",
              "    }\n",
              "\n",
              "    .colab-df-convert:hover {\n",
              "      background-color: #E2EBFA;\n",
              "      box-shadow: 0px 1px 2px rgba(60, 64, 67, 0.3), 0px 1px 3px 1px rgba(60, 64, 67, 0.15);\n",
              "      fill: #174EA6;\n",
              "    }\n",
              "\n",
              "    [theme=dark] .colab-df-convert {\n",
              "      background-color: #3B4455;\n",
              "      fill: #D2E3FC;\n",
              "    }\n",
              "\n",
              "    [theme=dark] .colab-df-convert:hover {\n",
              "      background-color: #434B5C;\n",
              "      box-shadow: 0px 1px 3px 1px rgba(0, 0, 0, 0.15);\n",
              "      filter: drop-shadow(0px 1px 2px rgba(0, 0, 0, 0.3));\n",
              "      fill: #FFFFFF;\n",
              "    }\n",
              "  </style>\n",
              "\n",
              "      <script>\n",
              "        const buttonEl =\n",
              "          document.querySelector('#df-5322a3ee-da85-4c7d-b30b-3b3e3e4f6025 button.colab-df-convert');\n",
              "        buttonEl.style.display =\n",
              "          google.colab.kernel.accessAllowed ? 'block' : 'none';\n",
              "\n",
              "        async function convertToInteractive(key) {\n",
              "          const element = document.querySelector('#df-5322a3ee-da85-4c7d-b30b-3b3e3e4f6025');\n",
              "          const dataTable =\n",
              "            await google.colab.kernel.invokeFunction('convertToInteractive',\n",
              "                                                     [key], {});\n",
              "          if (!dataTable) return;\n",
              "\n",
              "          const docLinkHtml = 'Like what you see? Visit the ' +\n",
              "            '<a target=\"_blank\" href=https://colab.research.google.com/notebooks/data_table.ipynb>data table notebook</a>'\n",
              "            + ' to learn more about interactive tables.';\n",
              "          element.innerHTML = '';\n",
              "          dataTable['output_type'] = 'display_data';\n",
              "          await google.colab.output.renderOutput(dataTable, element);\n",
              "          const docLink = document.createElement('div');\n",
              "          docLink.innerHTML = docLinkHtml;\n",
              "          element.appendChild(docLink);\n",
              "        }\n",
              "      </script>\n",
              "    </div>\n",
              "  </div>\n",
              "  "
            ]
          },
          "metadata": {},
          "execution_count": 40
        }
      ]
    },
    {
      "cell_type": "code",
      "source": [
        "#from imblearn.over_sampling import RandomOverSampler   #category 1 an 0 are unbalanced so we can makre them equal using it\n",
        "#randomsampler = RandomOverSampler()\n",
        "\n",
        "#x,y = randomsampler.fit_resample(X,Y)"
      ],
      "metadata": {
        "id": "9GN9J0gJDzKM"
      },
      "execution_count": null,
      "outputs": []
    },
    {
      "cell_type": "code",
      "source": [
        "from sklearn.model_selection import train_test_split\n",
        "xtrain,xtest,ytrain,ytest = train_test_split(x,y)"
      ],
      "metadata": {
        "id": "vxFtmQRy7X3X"
      },
      "execution_count": null,
      "outputs": []
    },
    {
      "cell_type": "code",
      "source": [
        "from sklearn.naive_bayes import GaussianNB\n",
        "model1 = GaussianNB()"
      ],
      "metadata": {
        "id": "KOpLvng_7iMK"
      },
      "execution_count": null,
      "outputs": []
    },
    {
      "cell_type": "code",
      "source": [
        "model1.fit(xtrain,ytrain)"
      ],
      "metadata": {
        "colab": {
          "base_uri": "https://localhost:8080/"
        },
        "id": "77MUbhhl7xVt",
        "outputId": "b72d139b-ec0e-40a5-dd48-a32b0b064c61"
      },
      "execution_count": null,
      "outputs": [
        {
          "output_type": "execute_result",
          "data": {
            "text/plain": [
              "GaussianNB()"
            ]
          },
          "metadata": {},
          "execution_count": 44
        }
      ]
    },
    {
      "cell_type": "code",
      "source": [
        "print(model1.score(xtrain,ytrain))\n",
        "print(model1.score(xtest,ytest))"
      ],
      "metadata": {
        "colab": {
          "base_uri": "https://localhost:8080/"
        },
        "id": "WJIeYgH_70lD",
        "outputId": "62240357-2f0f-4ca0-a994-70a64e339a71"
      },
      "execution_count": null,
      "outputs": [
        {
          "output_type": "stream",
          "name": "stdout",
          "text": [
            "0.656024894830865\n",
            "0.6444252376836647\n"
          ]
        }
      ]
    },
    {
      "cell_type": "code",
      "source": [
        "from sklearn.metrics import confusion_matrix\n",
        "\n",
        "print(confusion_matrix(ytrain, model1.predict(xtrain)))\n",
        "\n",
        "print(confusion_matrix(ytest, model1.predict(xtest)))"
      ],
      "metadata": {
        "colab": {
          "base_uri": "https://localhost:8080/"
        },
        "id": "Wnz2Mna1774r",
        "outputId": "1742bdaa-38a5-4a72-8538-49c0a84d39ea"
      },
      "execution_count": null,
      "outputs": [
        {
          "output_type": "stream",
          "name": "stdout",
          "text": [
            "[[    0  4072     0]\n",
            " [    0 11384     0]\n",
            " [    0  1897     0]]\n",
            "[[   0 1463    0]\n",
            " [   0 3728    0]\n",
            " [   0  594    0]]\n"
          ]
        }
      ]
    },
    {
      "cell_type": "code",
      "source": [
        "from sklearn.metrics import classification_report,accuracy_score"
      ],
      "metadata": {
        "id": "_yg_4Z6G8h1A"
      },
      "execution_count": null,
      "outputs": []
    },
    {
      "cell_type": "code",
      "source": [
        "print(classification_report(ytrain, model1.predict(xtrain)))\n",
        "print(classification_report(ytest, model1.predict(xtest)))"
      ],
      "metadata": {
        "colab": {
          "base_uri": "https://localhost:8080/"
        },
        "id": "OEQ64mnb8oSp",
        "outputId": "7d5e60cf-1531-4739-e548-74308e8b5037"
      },
      "execution_count": null,
      "outputs": [
        {
          "output_type": "stream",
          "name": "stderr",
          "text": [
            "/usr/local/lib/python3.8/dist-packages/sklearn/metrics/_classification.py:1318: UndefinedMetricWarning: Precision and F-score are ill-defined and being set to 0.0 in labels with no predicted samples. Use `zero_division` parameter to control this behavior.\n",
            "  _warn_prf(average, modifier, msg_start, len(result))\n",
            "/usr/local/lib/python3.8/dist-packages/sklearn/metrics/_classification.py:1318: UndefinedMetricWarning: Precision and F-score are ill-defined and being set to 0.0 in labels with no predicted samples. Use `zero_division` parameter to control this behavior.\n",
            "  _warn_prf(average, modifier, msg_start, len(result))\n"
          ]
        },
        {
          "output_type": "stream",
          "name": "stdout",
          "text": [
            "                  precision    recall  f1-score   support\n",
            "\n",
            "Not RTW 26 Weeks       0.00      0.00      0.00      4072\n",
            "    RTW 13 Weeks       0.66      1.00      0.79     11384\n",
            "    RTW 26 Weeks       0.00      0.00      0.00      1897\n",
            "\n",
            "        accuracy                           0.66     17353\n",
            "       macro avg       0.22      0.33      0.26     17353\n",
            "    weighted avg       0.43      0.66      0.52     17353\n",
            "\n",
            "                  precision    recall  f1-score   support\n",
            "\n",
            "Not RTW 26 Weeks       0.00      0.00      0.00      1463\n",
            "    RTW 13 Weeks       0.64      1.00      0.78      3728\n",
            "    RTW 26 Weeks       0.00      0.00      0.00       594\n",
            "\n",
            "        accuracy                           0.64      5785\n",
            "       macro avg       0.21      0.33      0.26      5785\n",
            "    weighted avg       0.42      0.64      0.51      5785\n",
            "\n"
          ]
        },
        {
          "output_type": "stream",
          "name": "stderr",
          "text": [
            "/usr/local/lib/python3.8/dist-packages/sklearn/metrics/_classification.py:1318: UndefinedMetricWarning: Precision and F-score are ill-defined and being set to 0.0 in labels with no predicted samples. Use `zero_division` parameter to control this behavior.\n",
            "  _warn_prf(average, modifier, msg_start, len(result))\n",
            "/usr/local/lib/python3.8/dist-packages/sklearn/metrics/_classification.py:1318: UndefinedMetricWarning: Precision and F-score are ill-defined and being set to 0.0 in labels with no predicted samples. Use `zero_division` parameter to control this behavior.\n",
            "  _warn_prf(average, modifier, msg_start, len(result))\n",
            "/usr/local/lib/python3.8/dist-packages/sklearn/metrics/_classification.py:1318: UndefinedMetricWarning: Precision and F-score are ill-defined and being set to 0.0 in labels with no predicted samples. Use `zero_division` parameter to control this behavior.\n",
            "  _warn_prf(average, modifier, msg_start, len(result))\n",
            "/usr/local/lib/python3.8/dist-packages/sklearn/metrics/_classification.py:1318: UndefinedMetricWarning: Precision and F-score are ill-defined and being set to 0.0 in labels with no predicted samples. Use `zero_division` parameter to control this behavior.\n",
            "  _warn_prf(average, modifier, msg_start, len(result))\n"
          ]
        }
      ]
    },
    {
      "cell_type": "markdown",
      "source": [
        "**Drop the rows with null Values**"
      ],
      "metadata": {
        "id": "XR3e_7uK_n16"
      }
    },
    {
      "cell_type": "code",
      "source": [
        "from imblearn.over_sampling import RandomOverSampler   #category 1 an 0 are unbalanced so we can makre them equal using it\n",
        "randomsampler = RandomOverSampler()\n",
        "\n",
        "x,y = randomsampler.fit_resample(x,y)"
      ],
      "metadata": {
        "id": "hm2Pmy2xEQcc"
      },
      "execution_count": null,
      "outputs": []
    },
    {
      "cell_type": "code",
      "source": [
        "x = df5.drop(['RTW Category','Total Paid','Paid Days Lost'],axis=1)\n",
        "y = df5['RTW Category']"
      ],
      "metadata": {
        "id": "6jvU5_Jhvylm"
      },
      "execution_count": null,
      "outputs": []
    },
    {
      "cell_type": "code",
      "source": [
        "from sklearn.model_selection import train_test_split\n",
        "xtrain,xtest,ytrain,ytest = train_test_split(x,y)"
      ],
      "metadata": {
        "id": "HnWNwlr2CpbY"
      },
      "execution_count": null,
      "outputs": []
    },
    {
      "cell_type": "code",
      "source": [
        "from sklearn.naive_bayes import GaussianNB\n",
        "model2 = GaussianNB()"
      ],
      "metadata": {
        "id": "kTLD735RB6OM"
      },
      "execution_count": null,
      "outputs": []
    },
    {
      "cell_type": "code",
      "source": [],
      "metadata": {
        "id": "rSutjC8uvuG6"
      },
      "execution_count": null,
      "outputs": []
    },
    {
      "cell_type": "code",
      "source": [
        "model2.fit(xtrain,ytrain)"
      ],
      "metadata": {
        "colab": {
          "base_uri": "https://localhost:8080/"
        },
        "id": "b-KCZo_SCqu6",
        "outputId": "9e357fd7-8e8e-435a-c0a1-5f6c5bfea940"
      },
      "execution_count": null,
      "outputs": [
        {
          "output_type": "execute_result",
          "data": {
            "text/plain": [
              "GaussianNB()"
            ]
          },
          "metadata": {},
          "execution_count": 53
        }
      ]
    },
    {
      "cell_type": "code",
      "source": [
        "print(model2.score(xtrain,ytrain))\n",
        "print(model2.score(xtest,ytest))"
      ],
      "metadata": {
        "colab": {
          "base_uri": "https://localhost:8080/"
        },
        "id": "CXFr9iH_Ctio",
        "outputId": "3b5cef9f-2da1-4aea-e9f8-f1233d8ebd4a"
      },
      "execution_count": null,
      "outputs": [
        {
          "output_type": "stream",
          "name": "stdout",
          "text": [
            "0.9550509998271193\n",
            "0.9571305099394987\n"
          ]
        }
      ]
    },
    {
      "cell_type": "code",
      "source": [
        "from sklearn.metrics import confusion_matrix\n",
        "\n",
        "print(confusion_matrix(ytrain, model2.predict(xtrain)))\n",
        "\n",
        "print(confusion_matrix(ytest, model2.predict(xtest)))"
      ],
      "metadata": {
        "colab": {
          "base_uri": "https://localhost:8080/"
        },
        "id": "J1YnWCjPC1ui",
        "outputId": "4d29a4a6-628f-4f82-c3ba-b0998d9ea11d"
      },
      "execution_count": null,
      "outputs": [
        {
          "output_type": "stream",
          "name": "stdout",
          "text": [
            "[[ 3824     0   365]\n",
            " [    0 11273     0]\n",
            " [    0   415  1476]]\n",
            "[[1228    0  118]\n",
            " [   0 3839    0]\n",
            " [   0  130  470]]\n"
          ]
        }
      ]
    },
    {
      "cell_type": "code",
      "source": [
        "print(classification_report(ytrain, model2.predict(xtrain)))\n",
        "\n",
        "print(classification_report(ytest, model2.predict(xtest)))"
      ],
      "metadata": {
        "colab": {
          "base_uri": "https://localhost:8080/"
        },
        "id": "shv4KiJ3EfyY",
        "outputId": "58cc001d-de54-4dbd-f599-4d577e14e7a4"
      },
      "execution_count": null,
      "outputs": [
        {
          "output_type": "stream",
          "name": "stdout",
          "text": [
            "                  precision    recall  f1-score   support\n",
            "\n",
            "Not RTW 26 Weeks       1.00      0.91      0.95      4189\n",
            "    RTW 13 Weeks       0.96      1.00      0.98     11273\n",
            "    RTW 26 Weeks       0.80      0.78      0.79      1891\n",
            "\n",
            "        accuracy                           0.96     17353\n",
            "       macro avg       0.92      0.90      0.91     17353\n",
            "    weighted avg       0.96      0.96      0.95     17353\n",
            "\n",
            "                  precision    recall  f1-score   support\n",
            "\n",
            "Not RTW 26 Weeks       1.00      0.91      0.95      1346\n",
            "    RTW 13 Weeks       0.97      1.00      0.98      3839\n",
            "    RTW 26 Weeks       0.80      0.78      0.79       600\n",
            "\n",
            "        accuracy                           0.96      5785\n",
            "       macro avg       0.92      0.90      0.91      5785\n",
            "    weighted avg       0.96      0.96      0.96      5785\n",
            "\n"
          ]
        }
      ]
    },
    {
      "cell_type": "code",
      "source": [
        "model2.predict(xtrain)"
      ],
      "metadata": {
        "colab": {
          "base_uri": "https://localhost:8080/"
        },
        "id": "znc-8M9v4MXi",
        "outputId": "8ed10c83-f1e6-42c8-a880-9ce501a8fc4f"
      },
      "execution_count": null,
      "outputs": [
        {
          "output_type": "execute_result",
          "data": {
            "text/plain": [
              "array(['RTW 13 Weeks', 'RTW 13 Weeks', 'RTW 13 Weeks', ...,\n",
              "       'RTW 26 Weeks', 'RTW 13 Weeks', 'RTW 13 Weeks'], dtype='<U16')"
            ]
          },
          "metadata": {},
          "execution_count": 57
        }
      ]
    },
    {
      "cell_type": "code",
      "source": [
        "model2.predict_proba(xtrain)"
      ],
      "metadata": {
        "colab": {
          "base_uri": "https://localhost:8080/"
        },
        "id": "WdxC_JTeDzuR",
        "outputId": "e4050763-3981-4183-cf40-c2aae762c9c8"
      },
      "execution_count": null,
      "outputs": [
        {
          "output_type": "execute_result",
          "data": {
            "text/plain": [
              "array([[0.06723997, 0.59582746, 0.33693257],\n",
              "       [0.01254856, 0.98542909, 0.00202234],\n",
              "       [0.01635627, 0.97985429, 0.00378944],\n",
              "       ...,\n",
              "       [0.08315942, 0.42504048, 0.4918001 ],\n",
              "       [0.02072696, 0.9597396 , 0.01953344],\n",
              "       [0.01903551, 0.97769954, 0.00326494]])"
            ]
          },
          "metadata": {},
          "execution_count": 58
        }
      ]
    },
    {
      "cell_type": "markdown",
      "source": [
        "**Tuning threshold**\n",
        "****"
      ],
      "metadata": {
        "id": "qptgt9OXEldk"
      }
    },
    {
      "cell_type": "code",
      "source": [
        "from sklearn.metrics import roc_curve,roc_auc_score\n",
        "fpr,tpr,thresh = roc_curve(ytrain , model2.predict_proba(xtrain)[: , 1])"
      ],
      "metadata": {
        "id": "-7xyQa9yC7Z5",
        "colab": {
          "base_uri": "https://localhost:8080/",
          "height": 347
        },
        "outputId": "07bfef50-d109-4e7c-a669-fe5c088748a0"
      },
      "execution_count": null,
      "outputs": [
        {
          "output_type": "error",
          "ename": "ValueError",
          "evalue": "ignored",
          "traceback": [
            "\u001b[0;31m---------------------------------------------------------------------------\u001b[0m",
            "\u001b[0;31mValueError\u001b[0m                                Traceback (most recent call last)",
            "\u001b[0;32m<ipython-input-59-99266ba2bb35>\u001b[0m in \u001b[0;36m<module>\u001b[0;34m\u001b[0m\n\u001b[1;32m      1\u001b[0m \u001b[0;32mfrom\u001b[0m \u001b[0msklearn\u001b[0m\u001b[0;34m.\u001b[0m\u001b[0mmetrics\u001b[0m \u001b[0;32mimport\u001b[0m \u001b[0mroc_curve\u001b[0m\u001b[0;34m,\u001b[0m\u001b[0mroc_auc_score\u001b[0m\u001b[0;34m\u001b[0m\u001b[0;34m\u001b[0m\u001b[0m\n\u001b[0;32m----> 2\u001b[0;31m \u001b[0mfpr\u001b[0m\u001b[0;34m,\u001b[0m\u001b[0mtpr\u001b[0m\u001b[0;34m,\u001b[0m\u001b[0mthresh\u001b[0m \u001b[0;34m=\u001b[0m \u001b[0mroc_curve\u001b[0m\u001b[0;34m(\u001b[0m\u001b[0mytrain\u001b[0m \u001b[0;34m,\u001b[0m \u001b[0mmodel2\u001b[0m\u001b[0;34m.\u001b[0m\u001b[0mpredict_proba\u001b[0m\u001b[0;34m(\u001b[0m\u001b[0mxtrain\u001b[0m\u001b[0;34m)\u001b[0m\u001b[0;34m[\u001b[0m\u001b[0;34m:\u001b[0m \u001b[0;34m,\u001b[0m \u001b[0;36m1\u001b[0m\u001b[0;34m]\u001b[0m\u001b[0;34m)\u001b[0m\u001b[0;34m\u001b[0m\u001b[0;34m\u001b[0m\u001b[0m\n\u001b[0m",
            "\u001b[0;32m/usr/local/lib/python3.8/dist-packages/sklearn/metrics/_ranking.py\u001b[0m in \u001b[0;36mroc_curve\u001b[0;34m(y_true, y_score, pos_label, sample_weight, drop_intermediate)\u001b[0m\n\u001b[1;32m    960\u001b[0m \u001b[0;34m\u001b[0m\u001b[0m\n\u001b[1;32m    961\u001b[0m     \"\"\"\n\u001b[0;32m--> 962\u001b[0;31m     fps, tps, thresholds = _binary_clf_curve(\n\u001b[0m\u001b[1;32m    963\u001b[0m         \u001b[0my_true\u001b[0m\u001b[0;34m,\u001b[0m \u001b[0my_score\u001b[0m\u001b[0;34m,\u001b[0m \u001b[0mpos_label\u001b[0m\u001b[0;34m=\u001b[0m\u001b[0mpos_label\u001b[0m\u001b[0;34m,\u001b[0m \u001b[0msample_weight\u001b[0m\u001b[0;34m=\u001b[0m\u001b[0msample_weight\u001b[0m\u001b[0;34m\u001b[0m\u001b[0;34m\u001b[0m\u001b[0m\n\u001b[1;32m    964\u001b[0m     )\n",
            "\u001b[0;32m/usr/local/lib/python3.8/dist-packages/sklearn/metrics/_ranking.py\u001b[0m in \u001b[0;36m_binary_clf_curve\u001b[0;34m(y_true, y_score, pos_label, sample_weight)\u001b[0m\n\u001b[1;32m    729\u001b[0m     \u001b[0my_type\u001b[0m \u001b[0;34m=\u001b[0m \u001b[0mtype_of_target\u001b[0m\u001b[0;34m(\u001b[0m\u001b[0my_true\u001b[0m\u001b[0;34m)\u001b[0m\u001b[0;34m\u001b[0m\u001b[0;34m\u001b[0m\u001b[0m\n\u001b[1;32m    730\u001b[0m     \u001b[0;32mif\u001b[0m \u001b[0;32mnot\u001b[0m \u001b[0;34m(\u001b[0m\u001b[0my_type\u001b[0m \u001b[0;34m==\u001b[0m \u001b[0;34m\"binary\"\u001b[0m \u001b[0;32mor\u001b[0m \u001b[0;34m(\u001b[0m\u001b[0my_type\u001b[0m \u001b[0;34m==\u001b[0m \u001b[0;34m\"multiclass\"\u001b[0m \u001b[0;32mand\u001b[0m \u001b[0mpos_label\u001b[0m \u001b[0;32mis\u001b[0m \u001b[0;32mnot\u001b[0m \u001b[0;32mNone\u001b[0m\u001b[0;34m)\u001b[0m\u001b[0;34m)\u001b[0m\u001b[0;34m:\u001b[0m\u001b[0;34m\u001b[0m\u001b[0;34m\u001b[0m\u001b[0m\n\u001b[0;32m--> 731\u001b[0;31m         \u001b[0;32mraise\u001b[0m \u001b[0mValueError\u001b[0m\u001b[0;34m(\u001b[0m\u001b[0;34m\"{0} format is not supported\"\u001b[0m\u001b[0;34m.\u001b[0m\u001b[0mformat\u001b[0m\u001b[0;34m(\u001b[0m\u001b[0my_type\u001b[0m\u001b[0;34m)\u001b[0m\u001b[0;34m)\u001b[0m\u001b[0;34m\u001b[0m\u001b[0;34m\u001b[0m\u001b[0m\n\u001b[0m\u001b[1;32m    732\u001b[0m \u001b[0;34m\u001b[0m\u001b[0m\n\u001b[1;32m    733\u001b[0m     \u001b[0mcheck_consistent_length\u001b[0m\u001b[0;34m(\u001b[0m\u001b[0my_true\u001b[0m\u001b[0;34m,\u001b[0m \u001b[0my_score\u001b[0m\u001b[0;34m,\u001b[0m \u001b[0msample_weight\u001b[0m\u001b[0;34m)\u001b[0m\u001b[0;34m\u001b[0m\u001b[0;34m\u001b[0m\u001b[0m\n",
            "\u001b[0;31mValueError\u001b[0m: multiclass format is not supported"
          ]
        }
      ]
    },
    {
      "cell_type": "code",
      "source": [
        "g_val = tpr * (1-fpr)\n",
        "print(g_val.argmax())"
      ],
      "metadata": {
        "id": "DbV2jXEpDG_A"
      },
      "execution_count": null,
      "outputs": []
    },
    {
      "cell_type": "code",
      "source": [
        "print(thresh[5002])"
      ],
      "metadata": {
        "id": "0NxgRxUXEIjs"
      },
      "execution_count": null,
      "outputs": []
    },
    {
      "cell_type": "code",
      "source": [
        "model2.predict_proba(xtrain)[: , 1] > 0.55"
      ],
      "metadata": {
        "id": "aihTZjHcFuhw"
      },
      "execution_count": null,
      "outputs": []
    },
    {
      "cell_type": "code",
      "source": [
        "ypredTrainThresh = np.where(model2.predict_proba(xtrain)[: , 1] > 0.55 , 1 , 0)\n",
        "ypredTestThresh = np.where(model2.predict_proba(xtest)[: , 1] > 0.55 , 1 , 0)"
      ],
      "metadata": {
        "id": "vCIh_fKqEXEk"
      },
      "execution_count": null,
      "outputs": []
    },
    {
      "cell_type": "code",
      "source": [
        "ypredTrainThresh"
      ],
      "metadata": {
        "id": "ZA54jT8MFSJ5"
      },
      "execution_count": null,
      "outputs": []
    },
    {
      "cell_type": "code",
      "source": [
        "print(confusion_matrix(ytrain, ypredTrainThresh))"
      ],
      "metadata": {
        "id": "hiWTHy2dF2vt"
      },
      "execution_count": null,
      "outputs": []
    },
    {
      "cell_type": "code",
      "source": [
        "print(confusion_matrix(ytest, ypredTestThresh))"
      ],
      "metadata": {
        "id": "IYmzl6CmF9az"
      },
      "execution_count": null,
      "outputs": []
    },
    {
      "cell_type": "code",
      "source": [
        "from sklearn.metrics import classification_report,accuracy_score"
      ],
      "metadata": {
        "id": "rcaNyo_qGDTk"
      },
      "execution_count": null,
      "outputs": []
    },
    {
      "cell_type": "code",
      "source": [
        "print(classification_report(ytrain, ypredTrainThresh))"
      ],
      "metadata": {
        "id": "IerbLIEO7DqP"
      },
      "execution_count": null,
      "outputs": []
    },
    {
      "cell_type": "code",
      "source": [
        "print(classification_report(ytest, ypredTestThresh))"
      ],
      "metadata": {
        "id": "TtG5RpAR7IV5"
      },
      "execution_count": null,
      "outputs": []
    },
    {
      "cell_type": "code",
      "source": [
        "print(accuracy_score(ytrain, ypredTrainThresh))\n",
        "print(accuracy_score(ytest, ypredTestThresh))"
      ],
      "metadata": {
        "id": "a5j9ug2h8bOI"
      },
      "execution_count": null,
      "outputs": []
    },
    {
      "cell_type": "markdown",
      "source": [
        "**Use Random Forest Classifier**"
      ],
      "metadata": {
        "id": "x2n22YmV9SaR"
      }
    },
    {
      "cell_type": "code",
      "source": [
        "df5.head()"
      ],
      "metadata": {
        "id": "9Jvxebvb9Lqq"
      },
      "execution_count": null,
      "outputs": []
    },
    {
      "cell_type": "code",
      "source": [
        "from imblearn.over_sampling import RandomOverSampler   #category 1 an 0 are unbalanced so we can makre them equal using it\n",
        "\n",
        "X2 = df5.drop(['RTW Category','Paid Days Lost','Days to RTW','Total Paid'],axis=1)\n",
        "Y2 = df5['RTW Category']\n",
        "\n",
        "randomsampler = RandomOverSampler()\n",
        "\n",
        "x2,y2 = randomsampler.fit_resample(X2,Y2)"
      ],
      "metadata": {
        "id": "glNE280ZAk1I"
      },
      "execution_count": null,
      "outputs": []
    },
    {
      "cell_type": "code",
      "source": [
        "pd.DataFrame(Y2).value_counts()"
      ],
      "metadata": {
        "id": "RMmNSjGaBZdo"
      },
      "execution_count": null,
      "outputs": []
    },
    {
      "cell_type": "code",
      "source": [
        "pd.DataFrame(y2).value_counts()"
      ],
      "metadata": {
        "id": "fnVVw1y5BTTe"
      },
      "execution_count": null,
      "outputs": []
    },
    {
      "cell_type": "code",
      "source": [
        "xtrain2,xtest2,ytrain2,ytest2 = train_test_split(x2,y2,random_state=0)\n",
        "\n",
        "from sklearn.ensemble import RandomForestClassifier\n",
        "rmodel1 = RandomForestClassifier(n_estimators=10)\n",
        "\n",
        "rmodel1.fit(xtrain2,ytrain2)\n",
        "\n",
        "print(rmodel1.score(xtrain2,ytrain2))\n",
        "print(rmodel1.score(xtest2,ytest2))\n"
      ],
      "metadata": {
        "id": "1LHbL9Xw9oMA"
      },
      "execution_count": null,
      "outputs": []
    },
    {
      "cell_type": "code",
      "source": [
        "print(confusion_matrix(ytrain2, rmodel1.predict(xtrain2)))"
      ],
      "metadata": {
        "id": "usk8Bn9f-sL4"
      },
      "execution_count": null,
      "outputs": []
    },
    {
      "cell_type": "code",
      "source": [
        "print(confusion_matrix(ytest2, rmodel1.predict(xtest2)))"
      ],
      "metadata": {
        "id": "gWWEEwIf-sP2"
      },
      "execution_count": null,
      "outputs": []
    },
    {
      "cell_type": "code",
      "source": [
        "print(classification_report(ytrain2, rmodel1.predict(xtrain2)))"
      ],
      "metadata": {
        "id": "zwVooaaE-sT6"
      },
      "execution_count": null,
      "outputs": []
    },
    {
      "cell_type": "code",
      "source": [
        "print(classification_report(ytest2, rmodel1.predict(xtest2)))"
      ],
      "metadata": {
        "id": "LkolI70F-sXy"
      },
      "execution_count": null,
      "outputs": []
    },
    {
      "cell_type": "code",
      "source": [],
      "metadata": {
        "id": "vcixbAdP6h4i"
      },
      "execution_count": null,
      "outputs": []
    },
    {
      "cell_type": "markdown",
      "source": [
        "**Neural Network Model**"
      ],
      "metadata": {
        "id": "v5KCqC-gx97X"
      }
    },
    {
      "cell_type": "code",
      "source": [
        "x.head()"
      ],
      "metadata": {
        "id": "Glbu7lt86ddr",
        "outputId": "9c4d5495-5464-42a3-c741-b68f78c6cbc9",
        "colab": {
          "base_uri": "https://localhost:8080/",
          "height": 421
        }
      },
      "execution_count": null,
      "outputs": [
        {
          "output_type": "execute_result",
          "data": {
            "text/plain": [
              "   Agency NN  Days to RTW  Age at Accident Date  \\\n",
              "0       7069           46                    55   \n",
              "1      63246            1                    49   \n",
              "2    2043954            1                    48   \n",
              "3      63246           35                    41   \n",
              "4      63246          101                    63   \n",
              "\n",
              "   Injury Agency Group_Animal, Human and Biological Agencies  \\\n",
              "0                                                  0           \n",
              "1                                                  0           \n",
              "2                                                  1           \n",
              "3                                                  1           \n",
              "4                                                  0           \n",
              "\n",
              "   Injury Agency Group_Environmental Agencies  \\\n",
              "0                                           0   \n",
              "1                                           0   \n",
              "2                                           0   \n",
              "3                                           0   \n",
              "4                                           1   \n",
              "\n",
              "   Injury Agency Group_Materials and Substances  \\\n",
              "0                                             0   \n",
              "1                                             0   \n",
              "2                                             0   \n",
              "3                                             0   \n",
              "4                                             0   \n",
              "\n",
              "   Injury Agency Group_Mobile Plant and Transport  \\\n",
              "0                                               1   \n",
              "1                                               0   \n",
              "2                                               0   \n",
              "3                                               0   \n",
              "4                                               0   \n",
              "\n",
              "   Injury Agency Group_Non-powered Handtools, Appliances and Equipment  \\\n",
              "0                                                  0                     \n",
              "1                                                  1                     \n",
              "2                                                  0                     \n",
              "3                                                  0                     \n",
              "4                                                  0                     \n",
              "\n",
              "   Injury Agency Group_Other  \\\n",
              "0                          0   \n",
              "1                          0   \n",
              "2                          0   \n",
              "3                          0   \n",
              "4                          0   \n",
              "\n",
              "   Injury Agency Group_Other and Unspecified Agencies  ...  \\\n",
              "0                                                  0   ...   \n",
              "1                                                  0   ...   \n",
              "2                                                  0   ...   \n",
              "3                                                  0   ...   \n",
              "4                                                  0   ...   \n",
              "\n",
              "   Mechanism Group_Body Stressing  \\\n",
              "0                               1   \n",
              "1                               0   \n",
              "2                               0   \n",
              "3                               1   \n",
              "4                               0   \n",
              "\n",
              "   Mechanism Group_Falls, Slips and Trips of a Person  Mechanism Group_Other  \\\n",
              "0                                                  0                       0   \n",
              "1                                                  1                       0   \n",
              "2                                                  0                       0   \n",
              "3                                                  0                       0   \n",
              "4                                                  1                       0   \n",
              "\n",
              "   Nature Group_Other  Nature Group_Sprains, Strains and Dislocations  \\\n",
              "0                   0                                               1   \n",
              "1                   1                                               0   \n",
              "2                   1                                               0   \n",
              "3                   0                                               1   \n",
              "4                   0                                               1   \n",
              "\n",
              "   Major_Intermediate Clerical, Sales and Service Workers  Major_Others  \\\n",
              "0                                                  1                  0   \n",
              "1                                                  1                  0   \n",
              "2                                                  0                  0   \n",
              "3                                                  1                  0   \n",
              "4                                                  0                  1   \n",
              "\n",
              "   Major_Professionals  Gender_Female  Gender_Male  \n",
              "0                    0              0            1  \n",
              "1                    0              1            0  \n",
              "2                    1              0            1  \n",
              "3                    0              0            1  \n",
              "4                    0              0            1  \n",
              "\n",
              "[5 rows x 26 columns]"
            ],
            "text/html": [
              "\n",
              "  <div id=\"df-91b624c1-d7e1-4fcd-a246-2f0944160e09\">\n",
              "    <div class=\"colab-df-container\">\n",
              "      <div>\n",
              "<style scoped>\n",
              "    .dataframe tbody tr th:only-of-type {\n",
              "        vertical-align: middle;\n",
              "    }\n",
              "\n",
              "    .dataframe tbody tr th {\n",
              "        vertical-align: top;\n",
              "    }\n",
              "\n",
              "    .dataframe thead th {\n",
              "        text-align: right;\n",
              "    }\n",
              "</style>\n",
              "<table border=\"1\" class=\"dataframe\">\n",
              "  <thead>\n",
              "    <tr style=\"text-align: right;\">\n",
              "      <th></th>\n",
              "      <th>Agency NN</th>\n",
              "      <th>Days to RTW</th>\n",
              "      <th>Age at Accident Date</th>\n",
              "      <th>Injury Agency Group_Animal, Human and Biological Agencies</th>\n",
              "      <th>Injury Agency Group_Environmental Agencies</th>\n",
              "      <th>Injury Agency Group_Materials and Substances</th>\n",
              "      <th>Injury Agency Group_Mobile Plant and Transport</th>\n",
              "      <th>Injury Agency Group_Non-powered Handtools, Appliances and Equipment</th>\n",
              "      <th>Injury Agency Group_Other</th>\n",
              "      <th>Injury Agency Group_Other and Unspecified Agencies</th>\n",
              "      <th>...</th>\n",
              "      <th>Mechanism Group_Body Stressing</th>\n",
              "      <th>Mechanism Group_Falls, Slips and Trips of a Person</th>\n",
              "      <th>Mechanism Group_Other</th>\n",
              "      <th>Nature Group_Other</th>\n",
              "      <th>Nature Group_Sprains, Strains and Dislocations</th>\n",
              "      <th>Major_Intermediate Clerical, Sales and Service Workers</th>\n",
              "      <th>Major_Others</th>\n",
              "      <th>Major_Professionals</th>\n",
              "      <th>Gender_Female</th>\n",
              "      <th>Gender_Male</th>\n",
              "    </tr>\n",
              "  </thead>\n",
              "  <tbody>\n",
              "    <tr>\n",
              "      <th>0</th>\n",
              "      <td>7069</td>\n",
              "      <td>46</td>\n",
              "      <td>55</td>\n",
              "      <td>0</td>\n",
              "      <td>0</td>\n",
              "      <td>0</td>\n",
              "      <td>1</td>\n",
              "      <td>0</td>\n",
              "      <td>0</td>\n",
              "      <td>0</td>\n",
              "      <td>...</td>\n",
              "      <td>1</td>\n",
              "      <td>0</td>\n",
              "      <td>0</td>\n",
              "      <td>0</td>\n",
              "      <td>1</td>\n",
              "      <td>1</td>\n",
              "      <td>0</td>\n",
              "      <td>0</td>\n",
              "      <td>0</td>\n",
              "      <td>1</td>\n",
              "    </tr>\n",
              "    <tr>\n",
              "      <th>1</th>\n",
              "      <td>63246</td>\n",
              "      <td>1</td>\n",
              "      <td>49</td>\n",
              "      <td>0</td>\n",
              "      <td>0</td>\n",
              "      <td>0</td>\n",
              "      <td>0</td>\n",
              "      <td>1</td>\n",
              "      <td>0</td>\n",
              "      <td>0</td>\n",
              "      <td>...</td>\n",
              "      <td>0</td>\n",
              "      <td>1</td>\n",
              "      <td>0</td>\n",
              "      <td>1</td>\n",
              "      <td>0</td>\n",
              "      <td>1</td>\n",
              "      <td>0</td>\n",
              "      <td>0</td>\n",
              "      <td>1</td>\n",
              "      <td>0</td>\n",
              "    </tr>\n",
              "    <tr>\n",
              "      <th>2</th>\n",
              "      <td>2043954</td>\n",
              "      <td>1</td>\n",
              "      <td>48</td>\n",
              "      <td>1</td>\n",
              "      <td>0</td>\n",
              "      <td>0</td>\n",
              "      <td>0</td>\n",
              "      <td>0</td>\n",
              "      <td>0</td>\n",
              "      <td>0</td>\n",
              "      <td>...</td>\n",
              "      <td>0</td>\n",
              "      <td>0</td>\n",
              "      <td>0</td>\n",
              "      <td>1</td>\n",
              "      <td>0</td>\n",
              "      <td>0</td>\n",
              "      <td>0</td>\n",
              "      <td>1</td>\n",
              "      <td>0</td>\n",
              "      <td>1</td>\n",
              "    </tr>\n",
              "    <tr>\n",
              "      <th>3</th>\n",
              "      <td>63246</td>\n",
              "      <td>35</td>\n",
              "      <td>41</td>\n",
              "      <td>1</td>\n",
              "      <td>0</td>\n",
              "      <td>0</td>\n",
              "      <td>0</td>\n",
              "      <td>0</td>\n",
              "      <td>0</td>\n",
              "      <td>0</td>\n",
              "      <td>...</td>\n",
              "      <td>1</td>\n",
              "      <td>0</td>\n",
              "      <td>0</td>\n",
              "      <td>0</td>\n",
              "      <td>1</td>\n",
              "      <td>1</td>\n",
              "      <td>0</td>\n",
              "      <td>0</td>\n",
              "      <td>0</td>\n",
              "      <td>1</td>\n",
              "    </tr>\n",
              "    <tr>\n",
              "      <th>4</th>\n",
              "      <td>63246</td>\n",
              "      <td>101</td>\n",
              "      <td>63</td>\n",
              "      <td>0</td>\n",
              "      <td>1</td>\n",
              "      <td>0</td>\n",
              "      <td>0</td>\n",
              "      <td>0</td>\n",
              "      <td>0</td>\n",
              "      <td>0</td>\n",
              "      <td>...</td>\n",
              "      <td>0</td>\n",
              "      <td>1</td>\n",
              "      <td>0</td>\n",
              "      <td>0</td>\n",
              "      <td>1</td>\n",
              "      <td>0</td>\n",
              "      <td>1</td>\n",
              "      <td>0</td>\n",
              "      <td>0</td>\n",
              "      <td>1</td>\n",
              "    </tr>\n",
              "  </tbody>\n",
              "</table>\n",
              "<p>5 rows × 26 columns</p>\n",
              "</div>\n",
              "      <button class=\"colab-df-convert\" onclick=\"convertToInteractive('df-91b624c1-d7e1-4fcd-a246-2f0944160e09')\"\n",
              "              title=\"Convert this dataframe to an interactive table.\"\n",
              "              style=\"display:none;\">\n",
              "        \n",
              "  <svg xmlns=\"http://www.w3.org/2000/svg\" height=\"24px\"viewBox=\"0 0 24 24\"\n",
              "       width=\"24px\">\n",
              "    <path d=\"M0 0h24v24H0V0z\" fill=\"none\"/>\n",
              "    <path d=\"M18.56 5.44l.94 2.06.94-2.06 2.06-.94-2.06-.94-.94-2.06-.94 2.06-2.06.94zm-11 1L8.5 8.5l.94-2.06 2.06-.94-2.06-.94L8.5 2.5l-.94 2.06-2.06.94zm10 10l.94 2.06.94-2.06 2.06-.94-2.06-.94-.94-2.06-.94 2.06-2.06.94z\"/><path d=\"M17.41 7.96l-1.37-1.37c-.4-.4-.92-.59-1.43-.59-.52 0-1.04.2-1.43.59L10.3 9.45l-7.72 7.72c-.78.78-.78 2.05 0 2.83L4 21.41c.39.39.9.59 1.41.59.51 0 1.02-.2 1.41-.59l7.78-7.78 2.81-2.81c.8-.78.8-2.07 0-2.86zM5.41 20L4 18.59l7.72-7.72 1.47 1.35L5.41 20z\"/>\n",
              "  </svg>\n",
              "      </button>\n",
              "      \n",
              "  <style>\n",
              "    .colab-df-container {\n",
              "      display:flex;\n",
              "      flex-wrap:wrap;\n",
              "      gap: 12px;\n",
              "    }\n",
              "\n",
              "    .colab-df-convert {\n",
              "      background-color: #E8F0FE;\n",
              "      border: none;\n",
              "      border-radius: 50%;\n",
              "      cursor: pointer;\n",
              "      display: none;\n",
              "      fill: #1967D2;\n",
              "      height: 32px;\n",
              "      padding: 0 0 0 0;\n",
              "      width: 32px;\n",
              "    }\n",
              "\n",
              "    .colab-df-convert:hover {\n",
              "      background-color: #E2EBFA;\n",
              "      box-shadow: 0px 1px 2px rgba(60, 64, 67, 0.3), 0px 1px 3px 1px rgba(60, 64, 67, 0.15);\n",
              "      fill: #174EA6;\n",
              "    }\n",
              "\n",
              "    [theme=dark] .colab-df-convert {\n",
              "      background-color: #3B4455;\n",
              "      fill: #D2E3FC;\n",
              "    }\n",
              "\n",
              "    [theme=dark] .colab-df-convert:hover {\n",
              "      background-color: #434B5C;\n",
              "      box-shadow: 0px 1px 3px 1px rgba(0, 0, 0, 0.15);\n",
              "      filter: drop-shadow(0px 1px 2px rgba(0, 0, 0, 0.3));\n",
              "      fill: #FFFFFF;\n",
              "    }\n",
              "  </style>\n",
              "\n",
              "      <script>\n",
              "        const buttonEl =\n",
              "          document.querySelector('#df-91b624c1-d7e1-4fcd-a246-2f0944160e09 button.colab-df-convert');\n",
              "        buttonEl.style.display =\n",
              "          google.colab.kernel.accessAllowed ? 'block' : 'none';\n",
              "\n",
              "        async function convertToInteractive(key) {\n",
              "          const element = document.querySelector('#df-91b624c1-d7e1-4fcd-a246-2f0944160e09');\n",
              "          const dataTable =\n",
              "            await google.colab.kernel.invokeFunction('convertToInteractive',\n",
              "                                                     [key], {});\n",
              "          if (!dataTable) return;\n",
              "\n",
              "          const docLinkHtml = 'Like what you see? Visit the ' +\n",
              "            '<a target=\"_blank\" href=https://colab.research.google.com/notebooks/data_table.ipynb>data table notebook</a>'\n",
              "            + ' to learn more about interactive tables.';\n",
              "          element.innerHTML = '';\n",
              "          dataTable['output_type'] = 'display_data';\n",
              "          await google.colab.output.renderOutput(dataTable, element);\n",
              "          const docLink = document.createElement('div');\n",
              "          docLink.innerHTML = docLinkHtml;\n",
              "          element.appendChild(docLink);\n",
              "        }\n",
              "      </script>\n",
              "    </div>\n",
              "  </div>\n",
              "  "
            ]
          },
          "metadata": {},
          "execution_count": 62
        }
      ]
    },
    {
      "cell_type": "code",
      "source": [
        "y"
      ],
      "metadata": {
        "id": "Qiuc4W9ayC96",
        "outputId": "7589b165-b8b5-4c8e-de51-e1c5564bbc97",
        "colab": {
          "base_uri": "https://localhost:8080/"
        }
      },
      "execution_count": null,
      "outputs": [
        {
          "output_type": "execute_result",
          "data": {
            "text/plain": [
              "0            RTW 13 Weeks\n",
              "1            RTW 13 Weeks\n",
              "2            RTW 13 Weeks\n",
              "3            RTW 13 Weeks\n",
              "4            RTW 26 Weeks\n",
              "               ...       \n",
              "23134        RTW 13 Weeks\n",
              "23135        RTW 13 Weeks\n",
              "23136        RTW 13 Weeks\n",
              "23137        RTW 13 Weeks\n",
              "23138    Not RTW 26 Weeks\n",
              "Name: RTW Category, Length: 23138, dtype: object"
            ]
          },
          "metadata": {},
          "execution_count": 63
        }
      ]
    },
    {
      "cell_type": "code",
      "source": [
        "randomsampler = RandomOverSampler()\n",
        "\n",
        "x2,y2 = randomsampler.fit_resample(x,y)"
      ],
      "metadata": {
        "id": "7kyzO-KxybPR"
      },
      "execution_count": null,
      "outputs": []
    },
    {
      "cell_type": "code",
      "source": [
        "xtrain,xtest,ytrain,ytest = train_test_split(x2,y2,random_state=0)"
      ],
      "metadata": {
        "id": "bCNVaFzNyJxc"
      },
      "execution_count": null,
      "outputs": []
    },
    {
      "cell_type": "code",
      "source": [
        "from sklearn.preprocessing import MinMaxScaler\n",
        "\n",
        "scl = MinMaxScaler()\n",
        "\n",
        "xtrainS = scl.fit(xtrain).transform(xtrain)\n",
        "xtestS = scl.fit(xtest).transform(xtest)"
      ],
      "metadata": {
        "id": "TsnyHoMm2iwp"
      },
      "execution_count": null,
      "outputs": []
    },
    {
      "cell_type": "code",
      "source": [
        "xtrain.shape"
      ],
      "metadata": {
        "id": "GV6NXSnx0vlb",
        "outputId": "d0033516-568e-4b0c-eeeb-9cf8ed0e3ea7",
        "colab": {
          "base_uri": "https://localhost:8080/"
        }
      },
      "execution_count": null,
      "outputs": [
        {
          "output_type": "execute_result",
          "data": {
            "text/plain": [
              "(34002, 26)"
            ]
          },
          "metadata": {},
          "execution_count": 72
        }
      ]
    },
    {
      "cell_type": "code",
      "source": [
        "ytrainE = pd.get_dummies(ytrain)\n",
        "ytestE = pd.get_dummies(ytest)"
      ],
      "metadata": {
        "id": "9Ds2KjPL0SZn"
      },
      "execution_count": null,
      "outputs": []
    },
    {
      "cell_type": "code",
      "source": [
        "ytrainE"
      ],
      "metadata": {
        "id": "XhLMBKIy7F42",
        "outputId": "c6090c1c-8759-48a7-9085-955f099a0195",
        "colab": {
          "base_uri": "https://localhost:8080/",
          "height": 424
        }
      },
      "execution_count": null,
      "outputs": [
        {
          "output_type": "execute_result",
          "data": {
            "text/plain": [
              "       Not RTW 26 Weeks  RTW 13 Weeks  RTW 26 Weeks\n",
              "36985                 0             0             1\n",
              "42481                 0             0             1\n",
              "11291                 0             1             0\n",
              "499                   1             0             0\n",
              "12876                 0             1             0\n",
              "...                 ...           ...           ...\n",
              "30403                 1             0             0\n",
              "21243                 0             1             0\n",
              "42613                 0             0             1\n",
              "43567                 0             0             1\n",
              "2732                  0             0             1\n",
              "\n",
              "[34002 rows x 3 columns]"
            ],
            "text/html": [
              "\n",
              "  <div id=\"df-405bdf73-3b0e-4163-b8c8-6dfffe273658\">\n",
              "    <div class=\"colab-df-container\">\n",
              "      <div>\n",
              "<style scoped>\n",
              "    .dataframe tbody tr th:only-of-type {\n",
              "        vertical-align: middle;\n",
              "    }\n",
              "\n",
              "    .dataframe tbody tr th {\n",
              "        vertical-align: top;\n",
              "    }\n",
              "\n",
              "    .dataframe thead th {\n",
              "        text-align: right;\n",
              "    }\n",
              "</style>\n",
              "<table border=\"1\" class=\"dataframe\">\n",
              "  <thead>\n",
              "    <tr style=\"text-align: right;\">\n",
              "      <th></th>\n",
              "      <th>Not RTW 26 Weeks</th>\n",
              "      <th>RTW 13 Weeks</th>\n",
              "      <th>RTW 26 Weeks</th>\n",
              "    </tr>\n",
              "  </thead>\n",
              "  <tbody>\n",
              "    <tr>\n",
              "      <th>36985</th>\n",
              "      <td>0</td>\n",
              "      <td>0</td>\n",
              "      <td>1</td>\n",
              "    </tr>\n",
              "    <tr>\n",
              "      <th>42481</th>\n",
              "      <td>0</td>\n",
              "      <td>0</td>\n",
              "      <td>1</td>\n",
              "    </tr>\n",
              "    <tr>\n",
              "      <th>11291</th>\n",
              "      <td>0</td>\n",
              "      <td>1</td>\n",
              "      <td>0</td>\n",
              "    </tr>\n",
              "    <tr>\n",
              "      <th>499</th>\n",
              "      <td>1</td>\n",
              "      <td>0</td>\n",
              "      <td>0</td>\n",
              "    </tr>\n",
              "    <tr>\n",
              "      <th>12876</th>\n",
              "      <td>0</td>\n",
              "      <td>1</td>\n",
              "      <td>0</td>\n",
              "    </tr>\n",
              "    <tr>\n",
              "      <th>...</th>\n",
              "      <td>...</td>\n",
              "      <td>...</td>\n",
              "      <td>...</td>\n",
              "    </tr>\n",
              "    <tr>\n",
              "      <th>30403</th>\n",
              "      <td>1</td>\n",
              "      <td>0</td>\n",
              "      <td>0</td>\n",
              "    </tr>\n",
              "    <tr>\n",
              "      <th>21243</th>\n",
              "      <td>0</td>\n",
              "      <td>1</td>\n",
              "      <td>0</td>\n",
              "    </tr>\n",
              "    <tr>\n",
              "      <th>42613</th>\n",
              "      <td>0</td>\n",
              "      <td>0</td>\n",
              "      <td>1</td>\n",
              "    </tr>\n",
              "    <tr>\n",
              "      <th>43567</th>\n",
              "      <td>0</td>\n",
              "      <td>0</td>\n",
              "      <td>1</td>\n",
              "    </tr>\n",
              "    <tr>\n",
              "      <th>2732</th>\n",
              "      <td>0</td>\n",
              "      <td>0</td>\n",
              "      <td>1</td>\n",
              "    </tr>\n",
              "  </tbody>\n",
              "</table>\n",
              "<p>34002 rows × 3 columns</p>\n",
              "</div>\n",
              "      <button class=\"colab-df-convert\" onclick=\"convertToInteractive('df-405bdf73-3b0e-4163-b8c8-6dfffe273658')\"\n",
              "              title=\"Convert this dataframe to an interactive table.\"\n",
              "              style=\"display:none;\">\n",
              "        \n",
              "  <svg xmlns=\"http://www.w3.org/2000/svg\" height=\"24px\"viewBox=\"0 0 24 24\"\n",
              "       width=\"24px\">\n",
              "    <path d=\"M0 0h24v24H0V0z\" fill=\"none\"/>\n",
              "    <path d=\"M18.56 5.44l.94 2.06.94-2.06 2.06-.94-2.06-.94-.94-2.06-.94 2.06-2.06.94zm-11 1L8.5 8.5l.94-2.06 2.06-.94-2.06-.94L8.5 2.5l-.94 2.06-2.06.94zm10 10l.94 2.06.94-2.06 2.06-.94-2.06-.94-.94-2.06-.94 2.06-2.06.94z\"/><path d=\"M17.41 7.96l-1.37-1.37c-.4-.4-.92-.59-1.43-.59-.52 0-1.04.2-1.43.59L10.3 9.45l-7.72 7.72c-.78.78-.78 2.05 0 2.83L4 21.41c.39.39.9.59 1.41.59.51 0 1.02-.2 1.41-.59l7.78-7.78 2.81-2.81c.8-.78.8-2.07 0-2.86zM5.41 20L4 18.59l7.72-7.72 1.47 1.35L5.41 20z\"/>\n",
              "  </svg>\n",
              "      </button>\n",
              "      \n",
              "  <style>\n",
              "    .colab-df-container {\n",
              "      display:flex;\n",
              "      flex-wrap:wrap;\n",
              "      gap: 12px;\n",
              "    }\n",
              "\n",
              "    .colab-df-convert {\n",
              "      background-color: #E8F0FE;\n",
              "      border: none;\n",
              "      border-radius: 50%;\n",
              "      cursor: pointer;\n",
              "      display: none;\n",
              "      fill: #1967D2;\n",
              "      height: 32px;\n",
              "      padding: 0 0 0 0;\n",
              "      width: 32px;\n",
              "    }\n",
              "\n",
              "    .colab-df-convert:hover {\n",
              "      background-color: #E2EBFA;\n",
              "      box-shadow: 0px 1px 2px rgba(60, 64, 67, 0.3), 0px 1px 3px 1px rgba(60, 64, 67, 0.15);\n",
              "      fill: #174EA6;\n",
              "    }\n",
              "\n",
              "    [theme=dark] .colab-df-convert {\n",
              "      background-color: #3B4455;\n",
              "      fill: #D2E3FC;\n",
              "    }\n",
              "\n",
              "    [theme=dark] .colab-df-convert:hover {\n",
              "      background-color: #434B5C;\n",
              "      box-shadow: 0px 1px 3px 1px rgba(0, 0, 0, 0.15);\n",
              "      filter: drop-shadow(0px 1px 2px rgba(0, 0, 0, 0.3));\n",
              "      fill: #FFFFFF;\n",
              "    }\n",
              "  </style>\n",
              "\n",
              "      <script>\n",
              "        const buttonEl =\n",
              "          document.querySelector('#df-405bdf73-3b0e-4163-b8c8-6dfffe273658 button.colab-df-convert');\n",
              "        buttonEl.style.display =\n",
              "          google.colab.kernel.accessAllowed ? 'block' : 'none';\n",
              "\n",
              "        async function convertToInteractive(key) {\n",
              "          const element = document.querySelector('#df-405bdf73-3b0e-4163-b8c8-6dfffe273658');\n",
              "          const dataTable =\n",
              "            await google.colab.kernel.invokeFunction('convertToInteractive',\n",
              "                                                     [key], {});\n",
              "          if (!dataTable) return;\n",
              "\n",
              "          const docLinkHtml = 'Like what you see? Visit the ' +\n",
              "            '<a target=\"_blank\" href=https://colab.research.google.com/notebooks/data_table.ipynb>data table notebook</a>'\n",
              "            + ' to learn more about interactive tables.';\n",
              "          element.innerHTML = '';\n",
              "          dataTable['output_type'] = 'display_data';\n",
              "          await google.colab.output.renderOutput(dataTable, element);\n",
              "          const docLink = document.createElement('div');\n",
              "          docLink.innerHTML = docLinkHtml;\n",
              "          element.appendChild(docLink);\n",
              "        }\n",
              "      </script>\n",
              "    </div>\n",
              "  </div>\n",
              "  "
            ]
          },
          "metadata": {},
          "execution_count": 109
        }
      ]
    },
    {
      "cell_type": "code",
      "source": [
        "from keras import models,layers\n",
        "\n",
        "model = models.Sequential()                 #Define the sequential model type\n",
        "\n",
        "model.add(layers.Dense(16 , input_dim = 26))                     #add a hidden layer with 16 neurons to a input layer with 32 neurons\n",
        "\n",
        "model.add(layers.Dense(8))\n",
        "\n",
        "model.add(layers.Dense(3, activation='sigmoid'))                 #add a o/p layer with 5 neurons\n",
        "\n",
        "model.compile(optimizer='sgd' , loss='categorical_crossentropy' , metrics=['accuracy'])"
      ],
      "metadata": {
        "id": "SrgSenUeyeD6"
      },
      "execution_count": null,
      "outputs": []
    },
    {
      "cell_type": "code",
      "source": [
        "model.fit(xtrainS , ytrainE , epochs=50,\n",
        "          validation_data = (xtestS,ytestE))"
      ],
      "metadata": {
        "id": "NvYK_ECD0M68",
        "outputId": "6ab0b135-5a9e-49ab-f9bf-d61bb70214cc",
        "colab": {
          "base_uri": "https://localhost:8080/"
        }
      },
      "execution_count": null,
      "outputs": [
        {
          "output_type": "stream",
          "name": "stdout",
          "text": [
            "Epoch 1/50\n",
            "1063/1063 [==============================] - 3s 2ms/step - loss: 1.0920 - accuracy: 0.3980 - val_loss: 1.0487 - val_accuracy: 0.4579\n",
            "Epoch 2/50\n",
            "1063/1063 [==============================] - 2s 2ms/step - loss: 1.0257 - accuracy: 0.4815 - val_loss: 0.9732 - val_accuracy: 0.5541\n",
            "Epoch 3/50\n",
            "1063/1063 [==============================] - 2s 2ms/step - loss: 0.9185 - accuracy: 0.5978 - val_loss: 0.8045 - val_accuracy: 0.6875\n",
            "Epoch 4/50\n",
            "1063/1063 [==============================] - 2s 2ms/step - loss: 0.7358 - accuracy: 0.7328 - val_loss: 0.6176 - val_accuracy: 0.8253\n",
            "Epoch 5/50\n",
            "1063/1063 [==============================] - 2s 2ms/step - loss: 0.5689 - accuracy: 0.8312 - val_loss: 0.4533 - val_accuracy: 0.9265\n",
            "Epoch 6/50\n",
            "1063/1063 [==============================] - 2s 2ms/step - loss: 0.4468 - accuracy: 0.8848 - val_loss: 0.4943 - val_accuracy: 0.7753\n",
            "Epoch 7/50\n",
            "1063/1063 [==============================] - 2s 2ms/step - loss: 0.3657 - accuracy: 0.8976 - val_loss: 0.3080 - val_accuracy: 0.9239\n",
            "Epoch 8/50\n",
            "1063/1063 [==============================] - 2s 2ms/step - loss: 0.3574 - accuracy: 0.8705 - val_loss: 0.2184 - val_accuracy: 0.9612\n",
            "Epoch 9/50\n",
            "1063/1063 [==============================] - 2s 2ms/step - loss: 0.3119 - accuracy: 0.8867 - val_loss: 0.1938 - val_accuracy: 0.9583\n",
            "Epoch 10/50\n",
            "1063/1063 [==============================] - 2s 2ms/step - loss: 0.3159 - accuracy: 0.8744 - val_loss: 0.1689 - val_accuracy: 0.9618\n",
            "Epoch 11/50\n",
            "1063/1063 [==============================] - 2s 2ms/step - loss: 0.2627 - accuracy: 0.9046 - val_loss: 0.1587 - val_accuracy: 0.9574\n",
            "Epoch 12/50\n",
            "1063/1063 [==============================] - 2s 2ms/step - loss: 0.2592 - accuracy: 0.9024 - val_loss: 0.5376 - val_accuracy: 0.7540\n",
            "Epoch 13/50\n",
            "1063/1063 [==============================] - 2s 2ms/step - loss: 0.2392 - accuracy: 0.9123 - val_loss: 0.1514 - val_accuracy: 0.9433\n",
            "Epoch 14/50\n",
            "1063/1063 [==============================] - 2s 2ms/step - loss: 0.1934 - accuracy: 0.9290 - val_loss: 0.2562 - val_accuracy: 0.8771\n",
            "Epoch 15/50\n",
            "1063/1063 [==============================] - 2s 2ms/step - loss: 0.1860 - accuracy: 0.9313 - val_loss: 0.1078 - val_accuracy: 0.9719\n",
            "Epoch 16/50\n",
            "1063/1063 [==============================] - 2s 2ms/step - loss: 0.2307 - accuracy: 0.9152 - val_loss: 0.2040 - val_accuracy: 0.9009\n",
            "Epoch 17/50\n",
            "1063/1063 [==============================] - 2s 2ms/step - loss: 0.1653 - accuracy: 0.9391 - val_loss: 0.1368 - val_accuracy: 0.9447\n",
            "Epoch 18/50\n",
            "1063/1063 [==============================] - 2s 2ms/step - loss: 0.1856 - accuracy: 0.9312 - val_loss: 0.0985 - val_accuracy: 0.9719\n",
            "Epoch 19/50\n",
            "1063/1063 [==============================] - 2s 2ms/step - loss: 0.1856 - accuracy: 0.9314 - val_loss: 0.3735 - val_accuracy: 0.8398\n",
            "Epoch 20/50\n",
            "1063/1063 [==============================] - 2s 2ms/step - loss: 0.1661 - accuracy: 0.9367 - val_loss: 0.3811 - val_accuracy: 0.8376\n",
            "Epoch 21/50\n",
            "1063/1063 [==============================] - 2s 2ms/step - loss: 0.1432 - accuracy: 0.9458 - val_loss: 0.0912 - val_accuracy: 0.9746\n",
            "Epoch 22/50\n",
            "1063/1063 [==============================] - 2s 2ms/step - loss: 0.1566 - accuracy: 0.9434 - val_loss: 0.1657 - val_accuracy: 0.9224\n",
            "Epoch 23/50\n",
            "1063/1063 [==============================] - 2s 2ms/step - loss: 0.1599 - accuracy: 0.9412 - val_loss: 0.2272 - val_accuracy: 0.8966\n",
            "Epoch 24/50\n",
            "1063/1063 [==============================] - 3s 3ms/step - loss: 0.1230 - accuracy: 0.9549 - val_loss: 0.1069 - val_accuracy: 0.9552\n",
            "Epoch 25/50\n",
            "1063/1063 [==============================] - 4s 4ms/step - loss: 0.1448 - accuracy: 0.9476 - val_loss: 0.1225 - val_accuracy: 0.9440\n",
            "Epoch 26/50\n",
            "1063/1063 [==============================] - 2s 2ms/step - loss: 0.1404 - accuracy: 0.9485 - val_loss: 0.1647 - val_accuracy: 0.9167\n",
            "Epoch 27/50\n",
            "1063/1063 [==============================] - 2s 2ms/step - loss: 0.1281 - accuracy: 0.9520 - val_loss: 0.1130 - val_accuracy: 0.9450\n",
            "Epoch 28/50\n",
            "1063/1063 [==============================] - 2s 2ms/step - loss: 0.1327 - accuracy: 0.9511 - val_loss: 0.3853 - val_accuracy: 0.8481\n",
            "Epoch 29/50\n",
            "1063/1063 [==============================] - 2s 2ms/step - loss: 0.1521 - accuracy: 0.9449 - val_loss: 0.1105 - val_accuracy: 0.9487\n",
            "Epoch 30/50\n",
            "1063/1063 [==============================] - 2s 2ms/step - loss: 0.1231 - accuracy: 0.9515 - val_loss: 0.1911 - val_accuracy: 0.9091\n",
            "Epoch 31/50\n",
            "1063/1063 [==============================] - 2s 2ms/step - loss: 0.1209 - accuracy: 0.9554 - val_loss: 0.2048 - val_accuracy: 0.9039\n",
            "Epoch 32/50\n",
            "1063/1063 [==============================] - 2s 2ms/step - loss: 0.1278 - accuracy: 0.9529 - val_loss: 0.3332 - val_accuracy: 0.8648\n",
            "Epoch 33/50\n",
            "1063/1063 [==============================] - 2s 2ms/step - loss: 0.1360 - accuracy: 0.9491 - val_loss: 0.2448 - val_accuracy: 0.8930\n",
            "Epoch 34/50\n",
            "1063/1063 [==============================] - 2s 2ms/step - loss: 0.1100 - accuracy: 0.9588 - val_loss: 0.2330 - val_accuracy: 0.8950\n",
            "Epoch 35/50\n",
            "1063/1063 [==============================] - 2s 2ms/step - loss: 0.1084 - accuracy: 0.9569 - val_loss: 0.1807 - val_accuracy: 0.9191\n",
            "Epoch 36/50\n",
            "1063/1063 [==============================] - 2s 2ms/step - loss: 0.1313 - accuracy: 0.9528 - val_loss: 0.1057 - val_accuracy: 0.9551\n",
            "Epoch 37/50\n",
            "1063/1063 [==============================] - 2s 2ms/step - loss: 0.1284 - accuracy: 0.9542 - val_loss: 0.0767 - val_accuracy: 0.9685\n",
            "Epoch 38/50\n",
            "1063/1063 [==============================] - 2s 2ms/step - loss: 0.1026 - accuracy: 0.9602 - val_loss: 0.1655 - val_accuracy: 0.9177\n",
            "Epoch 39/50\n",
            "1063/1063 [==============================] - 2s 2ms/step - loss: 0.1199 - accuracy: 0.9559 - val_loss: 0.2060 - val_accuracy: 0.9022\n",
            "Epoch 40/50\n",
            "1063/1063 [==============================] - 3s 2ms/step - loss: 0.1015 - accuracy: 0.9607 - val_loss: 0.1018 - val_accuracy: 0.9548\n",
            "Epoch 41/50\n",
            "1063/1063 [==============================] - 2s 2ms/step - loss: 0.1013 - accuracy: 0.9613 - val_loss: 0.1418 - val_accuracy: 0.9298\n",
            "Epoch 42/50\n",
            "1063/1063 [==============================] - 2s 2ms/step - loss: 0.1173 - accuracy: 0.9569 - val_loss: 0.1049 - val_accuracy: 0.9491\n",
            "Epoch 43/50\n",
            "1063/1063 [==============================] - 2s 2ms/step - loss: 0.1025 - accuracy: 0.9588 - val_loss: 0.2635 - val_accuracy: 0.8894\n",
            "Epoch 44/50\n",
            "1063/1063 [==============================] - 2s 2ms/step - loss: 0.0994 - accuracy: 0.9601 - val_loss: 0.2326 - val_accuracy: 0.8988\n",
            "Epoch 45/50\n",
            "1063/1063 [==============================] - 2s 2ms/step - loss: 0.1024 - accuracy: 0.9596 - val_loss: 0.4218 - val_accuracy: 0.8535\n",
            "Epoch 46/50\n",
            "1063/1063 [==============================] - 2s 2ms/step - loss: 0.0932 - accuracy: 0.9639 - val_loss: 0.1213 - val_accuracy: 0.9402\n",
            "Epoch 47/50\n",
            "1063/1063 [==============================] - 3s 2ms/step - loss: 0.1103 - accuracy: 0.9578 - val_loss: 0.2587 - val_accuracy: 0.8932\n",
            "Epoch 48/50\n",
            "1063/1063 [==============================] - 2s 2ms/step - loss: 0.0965 - accuracy: 0.9628 - val_loss: 0.2907 - val_accuracy: 0.8845\n",
            "Epoch 49/50\n",
            "1063/1063 [==============================] - 2s 2ms/step - loss: 0.0940 - accuracy: 0.9621 - val_loss: 0.1217 - val_accuracy: 0.9434\n",
            "Epoch 50/50\n",
            "1063/1063 [==============================] - 3s 2ms/step - loss: 0.1054 - accuracy: 0.9597 - val_loss: 0.1597 - val_accuracy: 0.9267\n"
          ]
        },
        {
          "output_type": "execute_result",
          "data": {
            "text/plain": [
              "<keras.callbacks.History at 0x7f850c695340>"
            ]
          },
          "metadata": {},
          "execution_count": 91
        }
      ]
    },
    {
      "cell_type": "code",
      "source": [
        "model.evaluate(xtrainS , ytrainE)"
      ],
      "metadata": {
        "id": "lYO1F98t0rwC",
        "outputId": "c9a6a765-d9a8-45c6-9aec-11178a8bebea",
        "colab": {
          "base_uri": "https://localhost:8080/"
        }
      },
      "execution_count": null,
      "outputs": [
        {
          "output_type": "stream",
          "name": "stdout",
          "text": [
            "1063/1063 [==============================] - 3s 3ms/step - loss: 0.0761 - accuracy: 0.9704\n"
          ]
        },
        {
          "output_type": "execute_result",
          "data": {
            "text/plain": [
              "[0.07612498104572296, 0.9703841209411621]"
            ]
          },
          "metadata": {},
          "execution_count": 92
        }
      ]
    },
    {
      "cell_type": "code",
      "source": [
        "model.evaluate(xtestS , ytestE)"
      ],
      "metadata": {
        "id": "J9vOuH1u5Ud3",
        "outputId": "f9ac609c-19d9-4094-c6a6-368a03d51e4f",
        "colab": {
          "base_uri": "https://localhost:8080/"
        }
      },
      "execution_count": null,
      "outputs": [
        {
          "output_type": "stream",
          "name": "stdout",
          "text": [
            "355/355 [==============================] - 1s 3ms/step - loss: 0.1597 - accuracy: 0.9267\n"
          ]
        },
        {
          "output_type": "execute_result",
          "data": {
            "text/plain": [
              "[0.1596696376800537, 0.9266808032989502]"
            ]
          },
          "metadata": {},
          "execution_count": 93
        }
      ]
    },
    {
      "cell_type": "code",
      "source": [],
      "metadata": {
        "id": "rOC1CPUQ5YJ9"
      },
      "execution_count": null,
      "outputs": []
    },
    {
      "cell_type": "markdown",
      "source": [
        "**Predictions**"
      ],
      "metadata": {
        "id": "a4L0NxTQ6THV"
      }
    },
    {
      "cell_type": "code",
      "source": [
        "xtrainS.shape"
      ],
      "metadata": {
        "id": "s8mOQD5S6WDR",
        "outputId": "bf5d52db-c2d3-49bf-df5a-6aaeafebf342",
        "colab": {
          "base_uri": "https://localhost:8080/"
        }
      },
      "execution_count": null,
      "outputs": [
        {
          "output_type": "execute_result",
          "data": {
            "text/plain": [
              "(34002, 26)"
            ]
          },
          "metadata": {},
          "execution_count": 104
        }
      ]
    },
    {
      "cell_type": "code",
      "source": [
        "xtrainS[67].shape"
      ],
      "metadata": {
        "id": "A6vGA7H_6bPK",
        "outputId": "6b98faee-ceb5-43db-ba98-40d4632320af",
        "colab": {
          "base_uri": "https://localhost:8080/"
        }
      },
      "execution_count": null,
      "outputs": [
        {
          "output_type": "execute_result",
          "data": {
            "text/plain": [
              "(26,)"
            ]
          },
          "metadata": {},
          "execution_count": 105
        }
      ]
    },
    {
      "cell_type": "code",
      "source": [
        "model.predict(xtrainS[17].reshape(1,-1))"
      ],
      "metadata": {
        "id": "REIrxTs15_nx",
        "outputId": "cdf01a1f-af37-497c-eadc-809ce13cd6e1",
        "colab": {
          "base_uri": "https://localhost:8080/"
        }
      },
      "execution_count": null,
      "outputs": [
        {
          "output_type": "stream",
          "name": "stdout",
          "text": [
            "1/1 [==============================] - 0s 19ms/step\n"
          ]
        },
        {
          "output_type": "execute_result",
          "data": {
            "text/plain": [
              "array([[5.2472949e-08, 9.9999267e-01, 9.6964025e-01]], dtype=float32)"
            ]
          },
          "metadata": {},
          "execution_count": 113
        }
      ]
    },
    {
      "cell_type": "code",
      "source": [
        "np.argmax(model.predict(xtrainS[17].reshape(1,-1)))"
      ],
      "metadata": {
        "id": "VjkConEd6pGr",
        "outputId": "df193708-0d1f-4a19-8e84-caa89172d478",
        "colab": {
          "base_uri": "https://localhost:8080/"
        }
      },
      "execution_count": null,
      "outputs": [
        {
          "output_type": "stream",
          "name": "stdout",
          "text": [
            "1/1 [==============================] - 0s 33ms/step\n"
          ]
        },
        {
          "output_type": "execute_result",
          "data": {
            "text/plain": [
              "1"
            ]
          },
          "metadata": {},
          "execution_count": 115
        }
      ]
    },
    {
      "cell_type": "code",
      "source": [
        "print(ytrainE.columns)"
      ],
      "metadata": {
        "id": "ftcqmIg77W2v",
        "outputId": "0ad95d94-a70e-496d-93c0-65068fa822f3",
        "colab": {
          "base_uri": "https://localhost:8080/"
        }
      },
      "execution_count": null,
      "outputs": [
        {
          "output_type": "stream",
          "name": "stdout",
          "text": [
            "Index(['Not RTW 26 Weeks', 'RTW 13 Weeks', 'RTW 26 Weeks'], dtype='object')\n"
          ]
        }
      ]
    },
    {
      "cell_type": "code",
      "source": [
        "print(ytrainE.columns[np.argmax(model.predict(xtrainS[17].reshape(1,-1)))])"
      ],
      "metadata": {
        "id": "6oVJoOk67MvH",
        "outputId": "efb0278c-2d5d-469e-b0ce-4f0dafdea0ea",
        "colab": {
          "base_uri": "https://localhost:8080/"
        }
      },
      "execution_count": null,
      "outputs": [
        {
          "output_type": "stream",
          "name": "stdout",
          "text": [
            "1/1 [==============================] - 0s 18ms/step\n",
            "RTW 13 Weeks\n"
          ]
        }
      ]
    },
    {
      "cell_type": "markdown",
      "source": [
        "**Classification Report**"
      ],
      "metadata": {
        "id": "qKn-bNur74S2"
      }
    },
    {
      "cell_type": "code",
      "source": [
        "ytrainReal = []\n",
        "for val in ytrainE.values:\n",
        "  ytrainReal.append(np.argmax(val))"
      ],
      "metadata": {
        "id": "6E_ryDnq8V2N"
      },
      "execution_count": null,
      "outputs": []
    },
    {
      "cell_type": "code",
      "source": [
        "ytestReal = []\n",
        "for val in ytestE.values:\n",
        "  ytestReal.append(np.argmax(val))"
      ],
      "metadata": {
        "id": "2K9riw-C8rJQ"
      },
      "execution_count": null,
      "outputs": []
    },
    {
      "cell_type": "code",
      "source": [
        "ytrainPred = []\n",
        "for pred in model.predict(xtrainS):\n",
        "  ytrainPred.append(np.argmax(pred))"
      ],
      "metadata": {
        "id": "l0CullGC5wr1",
        "outputId": "f290fd12-f80d-4941-e33a-31e11c566c71",
        "colab": {
          "base_uri": "https://localhost:8080/"
        }
      },
      "execution_count": null,
      "outputs": [
        {
          "output_type": "stream",
          "name": "stdout",
          "text": [
            "1063/1063 [==============================] - 1s 1ms/step\n"
          ]
        }
      ]
    },
    {
      "cell_type": "code",
      "source": [
        "ytestPred = []\n",
        "for pred in model.predict(xtestS):\n",
        "  ytestPred.append(np.argmax(pred))"
      ],
      "metadata": {
        "id": "VJHcL0hR8N_K",
        "outputId": "1fa93f56-83d1-4baa-e22c-a01f05ecd130",
        "colab": {
          "base_uri": "https://localhost:8080/"
        }
      },
      "execution_count": null,
      "outputs": [
        {
          "output_type": "stream",
          "name": "stdout",
          "text": [
            "355/355 [==============================] - 0s 1ms/step\n"
          ]
        }
      ]
    },
    {
      "cell_type": "code",
      "source": [
        "from sklearn.metrics import classification_report"
      ],
      "metadata": {
        "id": "9wsxIZhl6RuL"
      },
      "execution_count": null,
      "outputs": []
    },
    {
      "cell_type": "code",
      "source": [
        "print(classification_report(ytrainReal , ytrainPred))"
      ],
      "metadata": {
        "id": "uCQDS-Wl5gYy",
        "outputId": "ce88b032-135a-47d1-dbed-88294298d9f6",
        "colab": {
          "base_uri": "https://localhost:8080/"
        }
      },
      "execution_count": null,
      "outputs": [
        {
          "output_type": "stream",
          "name": "stdout",
          "text": [
            "              precision    recall  f1-score   support\n",
            "\n",
            "           0       1.00      0.95      0.98     11383\n",
            "           1       0.99      0.97      0.98     11273\n",
            "           2       0.93      0.99      0.96     11346\n",
            "\n",
            "    accuracy                           0.97     34002\n",
            "   macro avg       0.97      0.97      0.97     34002\n",
            "weighted avg       0.97      0.97      0.97     34002\n",
            "\n"
          ]
        }
      ]
    },
    {
      "cell_type": "code",
      "source": [
        "print(classification_report(ytestReal , ytestPred))"
      ],
      "metadata": {
        "id": "dp1XuzPv5oPO",
        "outputId": "78ab6652-8d42-4378-e592-6c2ced08e774",
        "colab": {
          "base_uri": "https://localhost:8080/"
        }
      },
      "execution_count": null,
      "outputs": [
        {
          "output_type": "stream",
          "name": "stdout",
          "text": [
            "              precision    recall  f1-score   support\n",
            "\n",
            "           0       0.87      1.00      0.93      3729\n",
            "           1       1.00      0.93      0.96      3839\n",
            "           2       0.92      0.85      0.89      3766\n",
            "\n",
            "    accuracy                           0.93     11334\n",
            "   macro avg       0.93      0.93      0.93     11334\n",
            "weighted avg       0.93      0.93      0.93     11334\n",
            "\n"
          ]
        }
      ]
    },
    {
      "cell_type": "code",
      "source": [],
      "metadata": {
        "id": "T1vjGQm686g0"
      },
      "execution_count": null,
      "outputs": []
    }
  ]
}